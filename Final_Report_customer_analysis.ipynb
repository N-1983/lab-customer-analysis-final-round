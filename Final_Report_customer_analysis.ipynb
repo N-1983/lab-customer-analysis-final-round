{
  "nbformat": 4,
  "nbformat_minor": 0,
  "metadata": {
    "colab": {
      "name": "Final Report-customer_analysis.ipynb",
      "provenance": []
    },
    "kernelspec": {
      "name": "python3",
      "display_name": "Python 3"
    },
    "language_info": {
      "name": "python"
    }
  },
  "cells": [
    {
      "cell_type": "markdown",
      "metadata": {
        "id": "YV1S4_JqNUvu"
      },
      "source": [
        "The data here shows the auto insurance details for customers. Goal of this analysis is to identify the potential buying behaviour of customers. Using that we need to identify the increase profitable customer response, retention, and growth.\n",
        "The profitable customer response will be targetted to the  total claim amount. The dataset contains 9134 customer details with 24 features."
      ]
    },
    {
      "cell_type": "markdown",
      "metadata": {
        "id": "-IO2Yr7eNRM2"
      },
      "source": [
        ""
      ]
    },
    {
      "cell_type": "markdown",
      "metadata": {
        "id": "VepUaRRWNPFX"
      },
      "source": [
        ""
      ]
    },
    {
      "cell_type": "code",
      "metadata": {
        "id": "yjroiGAbIRTN"
      },
      "source": [
        "import pandas as pd\n",
        "import numpy as np\n",
        "import seaborn as sns\n",
        "import matplotlib.pyplot as plt\n",
        "from sklearn import  linear_model\n",
        "from scipy import stats\n",
        "from sklearn.preprocessing import MinMaxScaler\n",
        "from scipy.stats import boxcox"
      ],
      "execution_count": 105,
      "outputs": []
    },
    {
      "cell_type": "code",
      "metadata": {
        "colab": {
          "base_uri": "https://localhost:8080/",
          "height": 660
        },
        "id": "mRAoHyB2IulH",
        "outputId": "0c08fed0-9c12-43b2-8aff-12f674d43a38"
      },
      "source": [
        "file = pd.read_csv('marketing_customer_analysis.csv')\n",
        "file"
      ],
      "execution_count": 106,
      "outputs": [
        {
          "output_type": "execute_result",
          "data": {
            "text/html": [
              "<div>\n",
              "<style scoped>\n",
              "    .dataframe tbody tr th:only-of-type {\n",
              "        vertical-align: middle;\n",
              "    }\n",
              "\n",
              "    .dataframe tbody tr th {\n",
              "        vertical-align: top;\n",
              "    }\n",
              "\n",
              "    .dataframe thead th {\n",
              "        text-align: right;\n",
              "    }\n",
              "</style>\n",
              "<table border=\"1\" class=\"dataframe\">\n",
              "  <thead>\n",
              "    <tr style=\"text-align: right;\">\n",
              "      <th></th>\n",
              "      <th>Customer</th>\n",
              "      <th>State</th>\n",
              "      <th>Customer Lifetime Value</th>\n",
              "      <th>Response</th>\n",
              "      <th>Coverage</th>\n",
              "      <th>Education</th>\n",
              "      <th>Effective To Date</th>\n",
              "      <th>EmploymentStatus</th>\n",
              "      <th>Gender</th>\n",
              "      <th>Income</th>\n",
              "      <th>Location Code</th>\n",
              "      <th>Marital Status</th>\n",
              "      <th>Monthly Premium Auto</th>\n",
              "      <th>Months Since Last Claim</th>\n",
              "      <th>Months Since Policy Inception</th>\n",
              "      <th>Number of Open Complaints</th>\n",
              "      <th>Number of Policies</th>\n",
              "      <th>Policy Type</th>\n",
              "      <th>Policy</th>\n",
              "      <th>Renew Offer Type</th>\n",
              "      <th>Sales Channel</th>\n",
              "      <th>Total Claim Amount</th>\n",
              "      <th>Vehicle Class</th>\n",
              "      <th>Vehicle Size</th>\n",
              "    </tr>\n",
              "  </thead>\n",
              "  <tbody>\n",
              "    <tr>\n",
              "      <th>0</th>\n",
              "      <td>BU79786</td>\n",
              "      <td>Washington</td>\n",
              "      <td>2763.519279</td>\n",
              "      <td>No</td>\n",
              "      <td>Basic</td>\n",
              "      <td>Bachelor</td>\n",
              "      <td>2/24/11</td>\n",
              "      <td>Employed</td>\n",
              "      <td>F</td>\n",
              "      <td>56274</td>\n",
              "      <td>Suburban</td>\n",
              "      <td>Married</td>\n",
              "      <td>69</td>\n",
              "      <td>32</td>\n",
              "      <td>5</td>\n",
              "      <td>0</td>\n",
              "      <td>1</td>\n",
              "      <td>Corporate Auto</td>\n",
              "      <td>Corporate L3</td>\n",
              "      <td>Offer1</td>\n",
              "      <td>Agent</td>\n",
              "      <td>384.811147</td>\n",
              "      <td>Two-Door Car</td>\n",
              "      <td>Medsize</td>\n",
              "    </tr>\n",
              "    <tr>\n",
              "      <th>1</th>\n",
              "      <td>QZ44356</td>\n",
              "      <td>Arizona</td>\n",
              "      <td>6979.535903</td>\n",
              "      <td>No</td>\n",
              "      <td>Extended</td>\n",
              "      <td>Bachelor</td>\n",
              "      <td>1/31/11</td>\n",
              "      <td>Unemployed</td>\n",
              "      <td>F</td>\n",
              "      <td>0</td>\n",
              "      <td>Suburban</td>\n",
              "      <td>Single</td>\n",
              "      <td>94</td>\n",
              "      <td>13</td>\n",
              "      <td>42</td>\n",
              "      <td>0</td>\n",
              "      <td>8</td>\n",
              "      <td>Personal Auto</td>\n",
              "      <td>Personal L3</td>\n",
              "      <td>Offer3</td>\n",
              "      <td>Agent</td>\n",
              "      <td>1131.464935</td>\n",
              "      <td>Four-Door Car</td>\n",
              "      <td>Medsize</td>\n",
              "    </tr>\n",
              "    <tr>\n",
              "      <th>2</th>\n",
              "      <td>AI49188</td>\n",
              "      <td>Nevada</td>\n",
              "      <td>12887.431650</td>\n",
              "      <td>No</td>\n",
              "      <td>Premium</td>\n",
              "      <td>Bachelor</td>\n",
              "      <td>2/19/11</td>\n",
              "      <td>Employed</td>\n",
              "      <td>F</td>\n",
              "      <td>48767</td>\n",
              "      <td>Suburban</td>\n",
              "      <td>Married</td>\n",
              "      <td>108</td>\n",
              "      <td>18</td>\n",
              "      <td>38</td>\n",
              "      <td>0</td>\n",
              "      <td>2</td>\n",
              "      <td>Personal Auto</td>\n",
              "      <td>Personal L3</td>\n",
              "      <td>Offer1</td>\n",
              "      <td>Agent</td>\n",
              "      <td>566.472247</td>\n",
              "      <td>Two-Door Car</td>\n",
              "      <td>Medsize</td>\n",
              "    </tr>\n",
              "    <tr>\n",
              "      <th>3</th>\n",
              "      <td>WW63253</td>\n",
              "      <td>California</td>\n",
              "      <td>7645.861827</td>\n",
              "      <td>No</td>\n",
              "      <td>Basic</td>\n",
              "      <td>Bachelor</td>\n",
              "      <td>1/20/11</td>\n",
              "      <td>Unemployed</td>\n",
              "      <td>M</td>\n",
              "      <td>0</td>\n",
              "      <td>Suburban</td>\n",
              "      <td>Married</td>\n",
              "      <td>106</td>\n",
              "      <td>18</td>\n",
              "      <td>65</td>\n",
              "      <td>0</td>\n",
              "      <td>7</td>\n",
              "      <td>Corporate Auto</td>\n",
              "      <td>Corporate L2</td>\n",
              "      <td>Offer1</td>\n",
              "      <td>Call Center</td>\n",
              "      <td>529.881344</td>\n",
              "      <td>SUV</td>\n",
              "      <td>Medsize</td>\n",
              "    </tr>\n",
              "    <tr>\n",
              "      <th>4</th>\n",
              "      <td>HB64268</td>\n",
              "      <td>Washington</td>\n",
              "      <td>2813.692575</td>\n",
              "      <td>No</td>\n",
              "      <td>Basic</td>\n",
              "      <td>Bachelor</td>\n",
              "      <td>2/3/11</td>\n",
              "      <td>Employed</td>\n",
              "      <td>M</td>\n",
              "      <td>43836</td>\n",
              "      <td>Rural</td>\n",
              "      <td>Single</td>\n",
              "      <td>73</td>\n",
              "      <td>12</td>\n",
              "      <td>44</td>\n",
              "      <td>0</td>\n",
              "      <td>1</td>\n",
              "      <td>Personal Auto</td>\n",
              "      <td>Personal L1</td>\n",
              "      <td>Offer1</td>\n",
              "      <td>Agent</td>\n",
              "      <td>138.130879</td>\n",
              "      <td>Four-Door Car</td>\n",
              "      <td>Medsize</td>\n",
              "    </tr>\n",
              "    <tr>\n",
              "      <th>...</th>\n",
              "      <td>...</td>\n",
              "      <td>...</td>\n",
              "      <td>...</td>\n",
              "      <td>...</td>\n",
              "      <td>...</td>\n",
              "      <td>...</td>\n",
              "      <td>...</td>\n",
              "      <td>...</td>\n",
              "      <td>...</td>\n",
              "      <td>...</td>\n",
              "      <td>...</td>\n",
              "      <td>...</td>\n",
              "      <td>...</td>\n",
              "      <td>...</td>\n",
              "      <td>...</td>\n",
              "      <td>...</td>\n",
              "      <td>...</td>\n",
              "      <td>...</td>\n",
              "      <td>...</td>\n",
              "      <td>...</td>\n",
              "      <td>...</td>\n",
              "      <td>...</td>\n",
              "      <td>...</td>\n",
              "      <td>...</td>\n",
              "    </tr>\n",
              "    <tr>\n",
              "      <th>9129</th>\n",
              "      <td>LA72316</td>\n",
              "      <td>California</td>\n",
              "      <td>23405.987980</td>\n",
              "      <td>No</td>\n",
              "      <td>Basic</td>\n",
              "      <td>Bachelor</td>\n",
              "      <td>2/10/11</td>\n",
              "      <td>Employed</td>\n",
              "      <td>M</td>\n",
              "      <td>71941</td>\n",
              "      <td>Urban</td>\n",
              "      <td>Married</td>\n",
              "      <td>73</td>\n",
              "      <td>18</td>\n",
              "      <td>89</td>\n",
              "      <td>0</td>\n",
              "      <td>2</td>\n",
              "      <td>Personal Auto</td>\n",
              "      <td>Personal L1</td>\n",
              "      <td>Offer2</td>\n",
              "      <td>Web</td>\n",
              "      <td>198.234764</td>\n",
              "      <td>Four-Door Car</td>\n",
              "      <td>Medsize</td>\n",
              "    </tr>\n",
              "    <tr>\n",
              "      <th>9130</th>\n",
              "      <td>PK87824</td>\n",
              "      <td>California</td>\n",
              "      <td>3096.511217</td>\n",
              "      <td>Yes</td>\n",
              "      <td>Extended</td>\n",
              "      <td>College</td>\n",
              "      <td>2/12/11</td>\n",
              "      <td>Employed</td>\n",
              "      <td>F</td>\n",
              "      <td>21604</td>\n",
              "      <td>Suburban</td>\n",
              "      <td>Divorced</td>\n",
              "      <td>79</td>\n",
              "      <td>14</td>\n",
              "      <td>28</td>\n",
              "      <td>0</td>\n",
              "      <td>1</td>\n",
              "      <td>Corporate Auto</td>\n",
              "      <td>Corporate L3</td>\n",
              "      <td>Offer1</td>\n",
              "      <td>Branch</td>\n",
              "      <td>379.200000</td>\n",
              "      <td>Four-Door Car</td>\n",
              "      <td>Medsize</td>\n",
              "    </tr>\n",
              "    <tr>\n",
              "      <th>9131</th>\n",
              "      <td>TD14365</td>\n",
              "      <td>California</td>\n",
              "      <td>8163.890428</td>\n",
              "      <td>No</td>\n",
              "      <td>Extended</td>\n",
              "      <td>Bachelor</td>\n",
              "      <td>2/6/11</td>\n",
              "      <td>Unemployed</td>\n",
              "      <td>M</td>\n",
              "      <td>0</td>\n",
              "      <td>Suburban</td>\n",
              "      <td>Single</td>\n",
              "      <td>85</td>\n",
              "      <td>9</td>\n",
              "      <td>37</td>\n",
              "      <td>3</td>\n",
              "      <td>2</td>\n",
              "      <td>Corporate Auto</td>\n",
              "      <td>Corporate L2</td>\n",
              "      <td>Offer1</td>\n",
              "      <td>Branch</td>\n",
              "      <td>790.784983</td>\n",
              "      <td>Four-Door Car</td>\n",
              "      <td>Medsize</td>\n",
              "    </tr>\n",
              "    <tr>\n",
              "      <th>9132</th>\n",
              "      <td>UP19263</td>\n",
              "      <td>California</td>\n",
              "      <td>7524.442436</td>\n",
              "      <td>No</td>\n",
              "      <td>Extended</td>\n",
              "      <td>College</td>\n",
              "      <td>2/3/11</td>\n",
              "      <td>Employed</td>\n",
              "      <td>M</td>\n",
              "      <td>21941</td>\n",
              "      <td>Suburban</td>\n",
              "      <td>Married</td>\n",
              "      <td>96</td>\n",
              "      <td>34</td>\n",
              "      <td>3</td>\n",
              "      <td>0</td>\n",
              "      <td>3</td>\n",
              "      <td>Personal Auto</td>\n",
              "      <td>Personal L2</td>\n",
              "      <td>Offer3</td>\n",
              "      <td>Branch</td>\n",
              "      <td>691.200000</td>\n",
              "      <td>Four-Door Car</td>\n",
              "      <td>Large</td>\n",
              "    </tr>\n",
              "    <tr>\n",
              "      <th>9133</th>\n",
              "      <td>Y167826</td>\n",
              "      <td>California</td>\n",
              "      <td>2611.836866</td>\n",
              "      <td>No</td>\n",
              "      <td>Extended</td>\n",
              "      <td>College</td>\n",
              "      <td>2/14/11</td>\n",
              "      <td>Unemployed</td>\n",
              "      <td>M</td>\n",
              "      <td>0</td>\n",
              "      <td>Suburban</td>\n",
              "      <td>Single</td>\n",
              "      <td>77</td>\n",
              "      <td>3</td>\n",
              "      <td>90</td>\n",
              "      <td>0</td>\n",
              "      <td>1</td>\n",
              "      <td>Corporate Auto</td>\n",
              "      <td>Corporate L3</td>\n",
              "      <td>Offer4</td>\n",
              "      <td>Call Center</td>\n",
              "      <td>369.600000</td>\n",
              "      <td>Two-Door Car</td>\n",
              "      <td>Medsize</td>\n",
              "    </tr>\n",
              "  </tbody>\n",
              "</table>\n",
              "<p>9134 rows × 24 columns</p>\n",
              "</div>"
            ],
            "text/plain": [
              "     Customer       State  ...  Vehicle Class Vehicle Size\n",
              "0     BU79786  Washington  ...   Two-Door Car      Medsize\n",
              "1     QZ44356     Arizona  ...  Four-Door Car      Medsize\n",
              "2     AI49188      Nevada  ...   Two-Door Car      Medsize\n",
              "3     WW63253  California  ...            SUV      Medsize\n",
              "4     HB64268  Washington  ...  Four-Door Car      Medsize\n",
              "...       ...         ...  ...            ...          ...\n",
              "9129  LA72316  California  ...  Four-Door Car      Medsize\n",
              "9130  PK87824  California  ...  Four-Door Car      Medsize\n",
              "9131  TD14365  California  ...  Four-Door Car      Medsize\n",
              "9132  UP19263  California  ...  Four-Door Car        Large\n",
              "9133  Y167826  California  ...   Two-Door Car      Medsize\n",
              "\n",
              "[9134 rows x 24 columns]"
            ]
          },
          "metadata": {
            "tags": []
          },
          "execution_count": 106
        }
      ]
    },
    {
      "cell_type": "code",
      "metadata": {
        "colab": {
          "base_uri": "https://localhost:8080/"
        },
        "id": "fjIWmJQ2jjG-",
        "outputId": "dc4e50df-6150-4833-a5e6-ee98c6731807"
      },
      "source": [
        "file.columns #Change headers names."
      ],
      "execution_count": 107,
      "outputs": [
        {
          "output_type": "execute_result",
          "data": {
            "text/plain": [
              "Index(['Customer', 'State', 'Customer Lifetime Value', 'Response', 'Coverage',\n",
              "       'Education', 'Effective To Date', 'EmploymentStatus', 'Gender',\n",
              "       'Income', 'Location Code', 'Marital Status', 'Monthly Premium Auto',\n",
              "       'Months Since Last Claim', 'Months Since Policy Inception',\n",
              "       'Number of Open Complaints', 'Number of Policies', 'Policy Type',\n",
              "       'Policy', 'Renew Offer Type', 'Sales Channel', 'Total Claim Amount',\n",
              "       'Vehicle Class', 'Vehicle Size'],\n",
              "      dtype='object')"
            ]
          },
          "metadata": {
            "tags": []
          },
          "execution_count": 107
        }
      ]
    },
    {
      "cell_type": "markdown",
      "metadata": {
        "id": "aP3a7ciEk7AH"
      },
      "source": [
        "Data Cleaning:"
      ]
    },
    {
      "cell_type": "code",
      "metadata": {
        "id": "89JTxCUUkFjp"
      },
      "source": [
        "file = file[['Customer', 'State', 'Customer Lifetime Value', 'Response', 'Coverage',\n",
        "       'Education', 'Effective To Date', 'EmploymentStatus', 'Gender',\n",
        "       'Income', 'Location Code', 'Marital Status', 'Monthly Premium Auto',\n",
        "       'Months Since Last Claim', 'Months Since Policy Inception',\n",
        "       'Number of Open Complaints', 'Number of Policies', 'Policy Type',\n",
        "       'Policy', 'Renew Offer Type', 'Sales Channel', 'Total Claim Amount',\n",
        "       'Vehicle Class', 'Vehicle Size']]# Normalize the header"
      ],
      "execution_count": 5,
      "outputs": []
    },
    {
      "cell_type": "code",
      "metadata": {
        "id": "WUQo-pq3mq8A"
      },
      "source": [
        " \n"
      ],
      "execution_count": 18,
      "outputs": []
    },
    {
      "cell_type": "code",
      "metadata": {
        "colab": {
          "base_uri": "https://localhost:8080/"
        },
        "id": "w88FA8Bno0nQ",
        "outputId": "80609902-5d36-45eb-a5f6-602486a0fad5"
      },
      "source": [
        "file.info() # There are no missing values in any of the columns."
      ],
      "execution_count": 108,
      "outputs": [
        {
          "output_type": "stream",
          "text": [
            "<class 'pandas.core.frame.DataFrame'>\n",
            "RangeIndex: 9134 entries, 0 to 9133\n",
            "Data columns (total 24 columns):\n",
            " #   Column                         Non-Null Count  Dtype  \n",
            "---  ------                         --------------  -----  \n",
            " 0   Customer                       9134 non-null   object \n",
            " 1   State                          9134 non-null   object \n",
            " 2   Customer Lifetime Value        9134 non-null   float64\n",
            " 3   Response                       9134 non-null   object \n",
            " 4   Coverage                       9134 non-null   object \n",
            " 5   Education                      9134 non-null   object \n",
            " 6   Effective To Date              9134 non-null   object \n",
            " 7   EmploymentStatus               9134 non-null   object \n",
            " 8   Gender                         9134 non-null   object \n",
            " 9   Income                         9134 non-null   int64  \n",
            " 10  Location Code                  9134 non-null   object \n",
            " 11  Marital Status                 9134 non-null   object \n",
            " 12  Monthly Premium Auto           9134 non-null   int64  \n",
            " 13  Months Since Last Claim        9134 non-null   int64  \n",
            " 14  Months Since Policy Inception  9134 non-null   int64  \n",
            " 15  Number of Open Complaints      9134 non-null   int64  \n",
            " 16  Number of Policies             9134 non-null   int64  \n",
            " 17  Policy Type                    9134 non-null   object \n",
            " 18  Policy                         9134 non-null   object \n",
            " 19  Renew Offer Type               9134 non-null   object \n",
            " 20  Sales Channel                  9134 non-null   object \n",
            " 21  Total Claim Amount             9134 non-null   float64\n",
            " 22  Vehicle Class                  9134 non-null   object \n",
            " 23  Vehicle Size                   9134 non-null   object \n",
            "dtypes: float64(2), int64(6), object(16)\n",
            "memory usage: 1.7+ MB\n"
          ],
          "name": "stdout"
        }
      ]
    },
    {
      "cell_type": "markdown",
      "metadata": {
        "id": "1BmbRyCYtJ8N"
      },
      "source": [
        "If there is no null values though goal of this analysis is profitable bussiness based on the response.So drop all non-responding customers from the dataset."
      ]
    },
    {
      "cell_type": "code",
      "metadata": {
        "colab": {
          "base_uri": "https://localhost:8080/",
          "height": 271
        },
        "id": "H1p9rpRhtM_k",
        "outputId": "253e1331-bf38-4373-d340-07fa1c20fc46"
      },
      "source": [
        "file['Response'].value_counts().plot(kind='bar')\n",
        "file1 = file[file['Response']== 'Yes']"
      ],
      "execution_count": 109,
      "outputs": [
        {
          "output_type": "display_data",
          "data": {
            "image/png": "[encoded data removed]",
            "text/plain": [
              "<Figure size 432x288 with 1 Axes>"
            ]
          },
          "metadata": {
            "tags": [],
            "needs_background": "light"
          }
        }
      ]
    },
    {
      "cell_type": "markdown",
      "metadata": {
        "id": "K-_6hx8JuJ2e"
      },
      "source": [
        "Based on responded customers the data will be  split  in to numerical and catagorical for the sake convenience.This numerical dataset has 1308 responded customers with their 8 features."
      ]
    },
    {
      "cell_type": "code",
      "metadata": {
        "id": "gze4F7vVuFiS"
      },
      "source": [
        ""
      ],
      "execution_count": null,
      "outputs": []
    },
    {
      "cell_type": "code",
      "metadata": {
        "colab": {
          "base_uri": "https://localhost:8080/",
          "height": 436
        },
        "id": "4gTJ8EJ6o5Ei",
        "outputId": "515df143-fd7f-41d1-e4e5-ebe1e0a6b041"
      },
      "source": [
        "numerical = file1.select_dtypes(include = np.number)\n",
        "numerical"
      ],
      "execution_count": 110,
      "outputs": [
        {
          "output_type": "execute_result",
          "data": {
            "text/html": [
              "<div>\n",
              "<style scoped>\n",
              "    .dataframe tbody tr th:only-of-type {\n",
              "        vertical-align: middle;\n",
              "    }\n",
              "\n",
              "    .dataframe tbody tr th {\n",
              "        vertical-align: top;\n",
              "    }\n",
              "\n",
              "    .dataframe thead th {\n",
              "        text-align: right;\n",
              "    }\n",
              "</style>\n",
              "<table border=\"1\" class=\"dataframe\">\n",
              "  <thead>\n",
              "    <tr style=\"text-align: right;\">\n",
              "      <th></th>\n",
              "      <th>Customer Lifetime Value</th>\n",
              "      <th>Income</th>\n",
              "      <th>Monthly Premium Auto</th>\n",
              "      <th>Months Since Last Claim</th>\n",
              "      <th>Months Since Policy Inception</th>\n",
              "      <th>Number of Open Complaints</th>\n",
              "      <th>Number of Policies</th>\n",
              "      <th>Total Claim Amount</th>\n",
              "    </tr>\n",
              "  </thead>\n",
              "  <tbody>\n",
              "    <tr>\n",
              "      <th>5</th>\n",
              "      <td>8256.297800</td>\n",
              "      <td>62902</td>\n",
              "      <td>69</td>\n",
              "      <td>14</td>\n",
              "      <td>94</td>\n",
              "      <td>0</td>\n",
              "      <td>2</td>\n",
              "      <td>159.383042</td>\n",
              "    </tr>\n",
              "    <tr>\n",
              "      <th>6</th>\n",
              "      <td>5380.898636</td>\n",
              "      <td>55350</td>\n",
              "      <td>67</td>\n",
              "      <td>0</td>\n",
              "      <td>13</td>\n",
              "      <td>0</td>\n",
              "      <td>9</td>\n",
              "      <td>321.600000</td>\n",
              "    </tr>\n",
              "    <tr>\n",
              "      <th>8</th>\n",
              "      <td>24127.504020</td>\n",
              "      <td>14072</td>\n",
              "      <td>71</td>\n",
              "      <td>13</td>\n",
              "      <td>3</td>\n",
              "      <td>0</td>\n",
              "      <td>2</td>\n",
              "      <td>511.200000</td>\n",
              "    </tr>\n",
              "    <tr>\n",
              "      <th>13</th>\n",
              "      <td>8819.018934</td>\n",
              "      <td>99845</td>\n",
              "      <td>110</td>\n",
              "      <td>23</td>\n",
              "      <td>25</td>\n",
              "      <td>1</td>\n",
              "      <td>8</td>\n",
              "      <td>528.000000</td>\n",
              "    </tr>\n",
              "    <tr>\n",
              "      <th>22</th>\n",
              "      <td>24127.504020</td>\n",
              "      <td>14072</td>\n",
              "      <td>71</td>\n",
              "      <td>13</td>\n",
              "      <td>3</td>\n",
              "      <td>0</td>\n",
              "      <td>2</td>\n",
              "      <td>511.200000</td>\n",
              "    </tr>\n",
              "    <tr>\n",
              "      <th>...</th>\n",
              "      <td>...</td>\n",
              "      <td>...</td>\n",
              "      <td>...</td>\n",
              "      <td>...</td>\n",
              "      <td>...</td>\n",
              "      <td>...</td>\n",
              "      <td>...</td>\n",
              "      <td>...</td>\n",
              "    </tr>\n",
              "    <tr>\n",
              "      <th>9110</th>\n",
              "      <td>34611.378960</td>\n",
              "      <td>20090</td>\n",
              "      <td>109</td>\n",
              "      <td>10</td>\n",
              "      <td>59</td>\n",
              "      <td>0</td>\n",
              "      <td>2</td>\n",
              "      <td>523.200000</td>\n",
              "    </tr>\n",
              "    <tr>\n",
              "      <th>9119</th>\n",
              "      <td>5479.555081</td>\n",
              "      <td>56005</td>\n",
              "      <td>68</td>\n",
              "      <td>31</td>\n",
              "      <td>30</td>\n",
              "      <td>1</td>\n",
              "      <td>3</td>\n",
              "      <td>326.400000</td>\n",
              "    </tr>\n",
              "    <tr>\n",
              "      <th>9122</th>\n",
              "      <td>25464.820590</td>\n",
              "      <td>13663</td>\n",
              "      <td>97</td>\n",
              "      <td>1</td>\n",
              "      <td>66</td>\n",
              "      <td>0</td>\n",
              "      <td>2</td>\n",
              "      <td>465.600000</td>\n",
              "    </tr>\n",
              "    <tr>\n",
              "      <th>9123</th>\n",
              "      <td>5678.050167</td>\n",
              "      <td>0</td>\n",
              "      <td>76</td>\n",
              "      <td>8</td>\n",
              "      <td>44</td>\n",
              "      <td>0</td>\n",
              "      <td>3</td>\n",
              "      <td>364.800000</td>\n",
              "    </tr>\n",
              "    <tr>\n",
              "      <th>9130</th>\n",
              "      <td>3096.511217</td>\n",
              "      <td>21604</td>\n",
              "      <td>79</td>\n",
              "      <td>14</td>\n",
              "      <td>28</td>\n",
              "      <td>0</td>\n",
              "      <td>1</td>\n",
              "      <td>379.200000</td>\n",
              "    </tr>\n",
              "  </tbody>\n",
              "</table>\n",
              "<p>1308 rows × 8 columns</p>\n",
              "</div>"
            ],
            "text/plain": [
              "      Customer Lifetime Value  Income  ...  Number of Policies  Total Claim Amount\n",
              "5                 8256.297800   62902  ...                   2          159.383042\n",
              "6                 5380.898636   55350  ...                   9          321.600000\n",
              "8                24127.504020   14072  ...                   2          511.200000\n",
              "13                8819.018934   99845  ...                   8          528.000000\n",
              "22               24127.504020   14072  ...                   2          511.200000\n",
              "...                       ...     ...  ...                 ...                 ...\n",
              "9110             34611.378960   20090  ...                   2          523.200000\n",
              "9119              5479.555081   56005  ...                   3          326.400000\n",
              "9122             25464.820590   13663  ...                   2          465.600000\n",
              "9123              5678.050167       0  ...                   3          364.800000\n",
              "9130              3096.511217   21604  ...                   1          379.200000\n",
              "\n",
              "[1308 rows x 8 columns]"
            ]
          },
          "metadata": {
            "tags": []
          },
          "execution_count": 110
        }
      ]
    },
    {
      "cell_type": "code",
      "metadata": {
        "id": "vZPFF-JPTz3o"
      },
      "source": [
        ""
      ],
      "execution_count": 37,
      "outputs": []
    },
    {
      "cell_type": "code",
      "metadata": {
        "id": "_IRip5fMsZOh"
      },
      "source": [
        ""
      ],
      "execution_count": 37,
      "outputs": []
    },
    {
      "cell_type": "markdown",
      "metadata": {
        "id": "xBhTQ9rYV3RK"
      },
      "source": [
        "The splitted catagorical dataset has 16 features."
      ]
    },
    {
      "cell_type": "code",
      "metadata": {
        "id": "QYaOAI6NtbFF"
      },
      "source": [
        ""
      ],
      "execution_count": 38,
      "outputs": []
    },
    {
      "cell_type": "code",
      "metadata": {
        "colab": {
          "base_uri": "https://localhost:8080/",
          "height": 643
        },
        "id": "Zf-6zDtCbUru",
        "outputId": "c39556c7-e3fe-4c4c-acbf-2a5af9edae1c"
      },
      "source": [
        "catagorical=file1.select_dtypes(include=np.object)\n",
        "catagorical"
      ],
      "execution_count": 111,
      "outputs": [
        {
          "output_type": "execute_result",
          "data": {
            "text/html": [
              "<div>\n",
              "<style scoped>\n",
              "    .dataframe tbody tr th:only-of-type {\n",
              "        vertical-align: middle;\n",
              "    }\n",
              "\n",
              "    .dataframe tbody tr th {\n",
              "        vertical-align: top;\n",
              "    }\n",
              "\n",
              "    .dataframe thead th {\n",
              "        text-align: right;\n",
              "    }\n",
              "</style>\n",
              "<table border=\"1\" class=\"dataframe\">\n",
              "  <thead>\n",
              "    <tr style=\"text-align: right;\">\n",
              "      <th></th>\n",
              "      <th>Customer</th>\n",
              "      <th>State</th>\n",
              "      <th>Response</th>\n",
              "      <th>Coverage</th>\n",
              "      <th>Education</th>\n",
              "      <th>Effective To Date</th>\n",
              "      <th>EmploymentStatus</th>\n",
              "      <th>Gender</th>\n",
              "      <th>Location Code</th>\n",
              "      <th>Marital Status</th>\n",
              "      <th>Policy Type</th>\n",
              "      <th>Policy</th>\n",
              "      <th>Renew Offer Type</th>\n",
              "      <th>Sales Channel</th>\n",
              "      <th>Vehicle Class</th>\n",
              "      <th>Vehicle Size</th>\n",
              "    </tr>\n",
              "  </thead>\n",
              "  <tbody>\n",
              "    <tr>\n",
              "      <th>5</th>\n",
              "      <td>OC83172</td>\n",
              "      <td>Oregon</td>\n",
              "      <td>Yes</td>\n",
              "      <td>Basic</td>\n",
              "      <td>Bachelor</td>\n",
              "      <td>1/25/11</td>\n",
              "      <td>Employed</td>\n",
              "      <td>F</td>\n",
              "      <td>Rural</td>\n",
              "      <td>Married</td>\n",
              "      <td>Personal Auto</td>\n",
              "      <td>Personal L3</td>\n",
              "      <td>Offer2</td>\n",
              "      <td>Web</td>\n",
              "      <td>Two-Door Car</td>\n",
              "      <td>Medsize</td>\n",
              "    </tr>\n",
              "    <tr>\n",
              "      <th>6</th>\n",
              "      <td>XZ87318</td>\n",
              "      <td>Oregon</td>\n",
              "      <td>Yes</td>\n",
              "      <td>Basic</td>\n",
              "      <td>College</td>\n",
              "      <td>2/24/11</td>\n",
              "      <td>Employed</td>\n",
              "      <td>F</td>\n",
              "      <td>Suburban</td>\n",
              "      <td>Married</td>\n",
              "      <td>Corporate Auto</td>\n",
              "      <td>Corporate L3</td>\n",
              "      <td>Offer1</td>\n",
              "      <td>Agent</td>\n",
              "      <td>Four-Door Car</td>\n",
              "      <td>Medsize</td>\n",
              "    </tr>\n",
              "    <tr>\n",
              "      <th>8</th>\n",
              "      <td>DY87989</td>\n",
              "      <td>Oregon</td>\n",
              "      <td>Yes</td>\n",
              "      <td>Basic</td>\n",
              "      <td>Bachelor</td>\n",
              "      <td>1/26/11</td>\n",
              "      <td>Medical Leave</td>\n",
              "      <td>M</td>\n",
              "      <td>Suburban</td>\n",
              "      <td>Divorced</td>\n",
              "      <td>Corporate Auto</td>\n",
              "      <td>Corporate L3</td>\n",
              "      <td>Offer1</td>\n",
              "      <td>Agent</td>\n",
              "      <td>Four-Door Car</td>\n",
              "      <td>Medsize</td>\n",
              "    </tr>\n",
              "    <tr>\n",
              "      <th>13</th>\n",
              "      <td>SJ95423</td>\n",
              "      <td>Arizona</td>\n",
              "      <td>Yes</td>\n",
              "      <td>Basic</td>\n",
              "      <td>High School or Below</td>\n",
              "      <td>1/10/11</td>\n",
              "      <td>Employed</td>\n",
              "      <td>M</td>\n",
              "      <td>Suburban</td>\n",
              "      <td>Married</td>\n",
              "      <td>Corporate Auto</td>\n",
              "      <td>Corporate L3</td>\n",
              "      <td>Offer2</td>\n",
              "      <td>Branch</td>\n",
              "      <td>SUV</td>\n",
              "      <td>Medsize</td>\n",
              "    </tr>\n",
              "    <tr>\n",
              "      <th>22</th>\n",
              "      <td>YH23384</td>\n",
              "      <td>Arizona</td>\n",
              "      <td>Yes</td>\n",
              "      <td>Basic</td>\n",
              "      <td>Bachelor</td>\n",
              "      <td>1/26/11</td>\n",
              "      <td>Medical Leave</td>\n",
              "      <td>M</td>\n",
              "      <td>Suburban</td>\n",
              "      <td>Divorced</td>\n",
              "      <td>Personal Auto</td>\n",
              "      <td>Personal L3</td>\n",
              "      <td>Offer1</td>\n",
              "      <td>Agent</td>\n",
              "      <td>Four-Door Car</td>\n",
              "      <td>Medsize</td>\n",
              "    </tr>\n",
              "    <tr>\n",
              "      <th>...</th>\n",
              "      <td>...</td>\n",
              "      <td>...</td>\n",
              "      <td>...</td>\n",
              "      <td>...</td>\n",
              "      <td>...</td>\n",
              "      <td>...</td>\n",
              "      <td>...</td>\n",
              "      <td>...</td>\n",
              "      <td>...</td>\n",
              "      <td>...</td>\n",
              "      <td>...</td>\n",
              "      <td>...</td>\n",
              "      <td>...</td>\n",
              "      <td>...</td>\n",
              "      <td>...</td>\n",
              "      <td>...</td>\n",
              "    </tr>\n",
              "    <tr>\n",
              "      <th>9110</th>\n",
              "      <td>RA89822</td>\n",
              "      <td>California</td>\n",
              "      <td>Yes</td>\n",
              "      <td>Basic</td>\n",
              "      <td>High School or Below</td>\n",
              "      <td>1/14/11</td>\n",
              "      <td>Employed</td>\n",
              "      <td>F</td>\n",
              "      <td>Suburban</td>\n",
              "      <td>Married</td>\n",
              "      <td>Personal Auto</td>\n",
              "      <td>Personal L2</td>\n",
              "      <td>Offer2</td>\n",
              "      <td>Agent</td>\n",
              "      <td>Sports Car</td>\n",
              "      <td>Medsize</td>\n",
              "    </tr>\n",
              "    <tr>\n",
              "      <th>9119</th>\n",
              "      <td>YX35990</td>\n",
              "      <td>California</td>\n",
              "      <td>Yes</td>\n",
              "      <td>Basic</td>\n",
              "      <td>Master</td>\n",
              "      <td>1/13/11</td>\n",
              "      <td>Employed</td>\n",
              "      <td>M</td>\n",
              "      <td>Suburban</td>\n",
              "      <td>Married</td>\n",
              "      <td>Corporate Auto</td>\n",
              "      <td>Corporate L2</td>\n",
              "      <td>Offer1</td>\n",
              "      <td>Branch</td>\n",
              "      <td>Four-Door Car</td>\n",
              "      <td>Small</td>\n",
              "    </tr>\n",
              "    <tr>\n",
              "      <th>9122</th>\n",
              "      <td>FH43628</td>\n",
              "      <td>California</td>\n",
              "      <td>Yes</td>\n",
              "      <td>Extended</td>\n",
              "      <td>College</td>\n",
              "      <td>2/1/11</td>\n",
              "      <td>Retired</td>\n",
              "      <td>F</td>\n",
              "      <td>Suburban</td>\n",
              "      <td>Single</td>\n",
              "      <td>Personal Auto</td>\n",
              "      <td>Personal L2</td>\n",
              "      <td>Offer1</td>\n",
              "      <td>Branch</td>\n",
              "      <td>Four-Door Car</td>\n",
              "      <td>Small</td>\n",
              "    </tr>\n",
              "    <tr>\n",
              "      <th>9123</th>\n",
              "      <td>WZ45103</td>\n",
              "      <td>California</td>\n",
              "      <td>Yes</td>\n",
              "      <td>Extended</td>\n",
              "      <td>Bachelor</td>\n",
              "      <td>1/19/11</td>\n",
              "      <td>Unemployed</td>\n",
              "      <td>F</td>\n",
              "      <td>Suburban</td>\n",
              "      <td>Married</td>\n",
              "      <td>Personal Auto</td>\n",
              "      <td>Personal L2</td>\n",
              "      <td>Offer2</td>\n",
              "      <td>Agent</td>\n",
              "      <td>Four-Door Car</td>\n",
              "      <td>Small</td>\n",
              "    </tr>\n",
              "    <tr>\n",
              "      <th>9130</th>\n",
              "      <td>PK87824</td>\n",
              "      <td>California</td>\n",
              "      <td>Yes</td>\n",
              "      <td>Extended</td>\n",
              "      <td>College</td>\n",
              "      <td>2/12/11</td>\n",
              "      <td>Employed</td>\n",
              "      <td>F</td>\n",
              "      <td>Suburban</td>\n",
              "      <td>Divorced</td>\n",
              "      <td>Corporate Auto</td>\n",
              "      <td>Corporate L3</td>\n",
              "      <td>Offer1</td>\n",
              "      <td>Branch</td>\n",
              "      <td>Four-Door Car</td>\n",
              "      <td>Medsize</td>\n",
              "    </tr>\n",
              "  </tbody>\n",
              "</table>\n",
              "<p>1308 rows × 16 columns</p>\n",
              "</div>"
            ],
            "text/plain": [
              "     Customer       State Response  ... Sales Channel  Vehicle Class Vehicle Size\n",
              "5     OC83172      Oregon      Yes  ...           Web   Two-Door Car      Medsize\n",
              "6     XZ87318      Oregon      Yes  ...         Agent  Four-Door Car      Medsize\n",
              "8     DY87989      Oregon      Yes  ...         Agent  Four-Door Car      Medsize\n",
              "13    SJ95423     Arizona      Yes  ...        Branch            SUV      Medsize\n",
              "22    YH23384     Arizona      Yes  ...         Agent  Four-Door Car      Medsize\n",
              "...       ...         ...      ...  ...           ...            ...          ...\n",
              "9110  RA89822  California      Yes  ...         Agent     Sports Car      Medsize\n",
              "9119  YX35990  California      Yes  ...        Branch  Four-Door Car        Small\n",
              "9122  FH43628  California      Yes  ...        Branch  Four-Door Car        Small\n",
              "9123  WZ45103  California      Yes  ...         Agent  Four-Door Car        Small\n",
              "9130  PK87824  California      Yes  ...        Branch  Four-Door Car      Medsize\n",
              "\n",
              "[1308 rows x 16 columns]"
            ]
          },
          "metadata": {
            "tags": []
          },
          "execution_count": 111
        }
      ]
    },
    {
      "cell_type": "code",
      "metadata": {
        "id": "YP-LzcvghLwX"
      },
      "source": [
        ""
      ],
      "execution_count": null,
      "outputs": []
    },
    {
      "cell_type": "markdown",
      "metadata": {
        "id": "YWSk6KQvhb8A"
      },
      "source": [
        ""
      ]
    },
    {
      "cell_type": "code",
      "metadata": {
        "id": "v52otkcchZlB"
      },
      "source": [
        ""
      ],
      "execution_count": null,
      "outputs": []
    },
    {
      "cell_type": "code",
      "metadata": {
        "id": "WCq7GCQwbfBd"
      },
      "source": [
        ""
      ],
      "execution_count": 38,
      "outputs": []
    },
    {
      "cell_type": "code",
      "metadata": {
        "id": "qh6Ix1ZMbnlE"
      },
      "source": [
        ""
      ],
      "execution_count": null,
      "outputs": []
    },
    {
      "cell_type": "code",
      "metadata": {
        "id": "7tYvANgcW-Yf"
      },
      "source": [
        ""
      ],
      "execution_count": 192,
      "outputs": []
    },
    {
      "cell_type": "markdown",
      "metadata": {
        "id": "s7fiMISJkKUW"
      },
      "source": [
        " **Processing Data**"
      ]
    },
    {
      "cell_type": "markdown",
      "metadata": {
        "id": "4i3Tans5Wyck"
      },
      "source": [
        "For finding Outliers of the numerical data ,the data could be treated in a statistical path.From the description of the numerical dataset,customer lifetime value  and number of open compalints has outstanding diffrence than other features.The outlier of the Sns plot and inter quartile range  are  evidence.Next step is to drop those features from the dataset  otherwise it could be treated differently."
      ]
    },
    {
      "cell_type": "code",
      "metadata": {
        "colab": {
          "base_uri": "https://localhost:8080/",
          "height": 331
        },
        "id": "zc7cuLecguyf",
        "outputId": "b624c8ee-a88c-4818-c148-a1d8a67b533b"
      },
      "source": [
        "numerical.describe()"
      ],
      "execution_count": 112,
      "outputs": [
        {
          "output_type": "execute_result",
          "data": {
            "text/html": [
              "<div>\n",
              "<style scoped>\n",
              "    .dataframe tbody tr th:only-of-type {\n",
              "        vertical-align: middle;\n",
              "    }\n",
              "\n",
              "    .dataframe tbody tr th {\n",
              "        vertical-align: top;\n",
              "    }\n",
              "\n",
              "    .dataframe thead th {\n",
              "        text-align: right;\n",
              "    }\n",
              "</style>\n",
              "<table border=\"1\" class=\"dataframe\">\n",
              "  <thead>\n",
              "    <tr style=\"text-align: right;\">\n",
              "      <th></th>\n",
              "      <th>Customer Lifetime Value</th>\n",
              "      <th>Income</th>\n",
              "      <th>Monthly Premium Auto</th>\n",
              "      <th>Months Since Last Claim</th>\n",
              "      <th>Months Since Policy Inception</th>\n",
              "      <th>Number of Open Complaints</th>\n",
              "      <th>Number of Policies</th>\n",
              "      <th>Total Claim Amount</th>\n",
              "    </tr>\n",
              "  </thead>\n",
              "  <tbody>\n",
              "    <tr>\n",
              "      <th>count</th>\n",
              "      <td>1308.000000</td>\n",
              "      <td>1308.000000</td>\n",
              "      <td>1308.000000</td>\n",
              "      <td>1308.000000</td>\n",
              "      <td>1308.000000</td>\n",
              "      <td>1308.000000</td>\n",
              "      <td>1308.000000</td>\n",
              "      <td>1308.000000</td>\n",
              "    </tr>\n",
              "    <tr>\n",
              "      <th>mean</th>\n",
              "      <td>7854.871361</td>\n",
              "      <td>38544.027523</td>\n",
              "      <td>94.142202</td>\n",
              "      <td>14.688073</td>\n",
              "      <td>48.266055</td>\n",
              "      <td>0.362385</td>\n",
              "      <td>2.844037</td>\n",
              "      <td>446.080868</td>\n",
              "    </tr>\n",
              "    <tr>\n",
              "      <th>std</th>\n",
              "      <td>6255.638229</td>\n",
              "      <td>28043.637944</td>\n",
              "      <td>36.307194</td>\n",
              "      <td>9.772341</td>\n",
              "      <td>27.071152</td>\n",
              "      <td>0.909959</td>\n",
              "      <td>2.417132</td>\n",
              "      <td>241.906812</td>\n",
              "    </tr>\n",
              "    <tr>\n",
              "      <th>min</th>\n",
              "      <td>2004.350666</td>\n",
              "      <td>0.000000</td>\n",
              "      <td>61.000000</td>\n",
              "      <td>0.000000</td>\n",
              "      <td>0.000000</td>\n",
              "      <td>0.000000</td>\n",
              "      <td>1.000000</td>\n",
              "      <td>7.345946</td>\n",
              "    </tr>\n",
              "    <tr>\n",
              "      <th>25%</th>\n",
              "      <td>3933.813993</td>\n",
              "      <td>18495.000000</td>\n",
              "      <td>68.000000</td>\n",
              "      <td>6.000000</td>\n",
              "      <td>25.000000</td>\n",
              "      <td>0.000000</td>\n",
              "      <td>1.000000</td>\n",
              "      <td>316.800000</td>\n",
              "    </tr>\n",
              "    <tr>\n",
              "      <th>50%</th>\n",
              "      <td>5596.257433</td>\n",
              "      <td>32234.000000</td>\n",
              "      <td>85.500000</td>\n",
              "      <td>14.000000</td>\n",
              "      <td>50.000000</td>\n",
              "      <td>0.000000</td>\n",
              "      <td>2.000000</td>\n",
              "      <td>410.120119</td>\n",
              "    </tr>\n",
              "    <tr>\n",
              "      <th>75%</th>\n",
              "      <td>9075.768214</td>\n",
              "      <td>60880.000000</td>\n",
              "      <td>109.000000</td>\n",
              "      <td>22.000000</td>\n",
              "      <td>69.000000</td>\n",
              "      <td>0.000000</td>\n",
              "      <td>3.000000</td>\n",
              "      <td>547.200000</td>\n",
              "    </tr>\n",
              "    <tr>\n",
              "      <th>max</th>\n",
              "      <td>41787.903430</td>\n",
              "      <td>99845.000000</td>\n",
              "      <td>283.000000</td>\n",
              "      <td>35.000000</td>\n",
              "      <td>99.000000</td>\n",
              "      <td>5.000000</td>\n",
              "      <td>9.000000</td>\n",
              "      <td>1358.400000</td>\n",
              "    </tr>\n",
              "  </tbody>\n",
              "</table>\n",
              "</div>"
            ],
            "text/plain": [
              "       Customer Lifetime Value  ...  Total Claim Amount\n",
              "count              1308.000000  ...         1308.000000\n",
              "mean               7854.871361  ...          446.080868\n",
              "std                6255.638229  ...          241.906812\n",
              "min                2004.350666  ...            7.345946\n",
              "25%                3933.813993  ...          316.800000\n",
              "50%                5596.257433  ...          410.120119\n",
              "75%                9075.768214  ...          547.200000\n",
              "max               41787.903430  ...         1358.400000\n",
              "\n",
              "[8 rows x 8 columns]"
            ]
          },
          "metadata": {
            "tags": []
          },
          "execution_count": 112
        }
      ]
    },
    {
      "cell_type": "markdown",
      "metadata": {
        "id": "S47Sd7SJkUD0"
      },
      "source": [
        ""
      ]
    },
    {
      "cell_type": "code",
      "metadata": {
        "colab": {
          "base_uri": "https://localhost:8080/",
          "height": 282
        },
        "id": "1BROTTzvkc3j",
        "outputId": "2bfd9a2a-3b47-4ccd-a70e-712406d22d90"
      },
      "source": [
        "sns.boxplot(data=numerical, orient=\"h\", palette=\"Set2\")"
      ],
      "execution_count": 113,
      "outputs": [
        {
          "output_type": "execute_result",
          "data": {
            "text/plain": [
              "<matplotlib.axes._subplots.AxesSubplot at 0x7ff789c2bad0>"
            ]
          },
          "metadata": {
            "tags": []
          },
          "execution_count": 113
        },
        {
          "output_type": "display_data",
          "data": {
            "image/png": "[encoded data removed]",
            "text/plain": [
              "<Figure size 432x288 with 1 Axes>"
            ]
          },
          "metadata": {
            "tags": [],
            "needs_background": "light"
          }
        }
      ]
    },
    {
      "cell_type": "code",
      "metadata": {
        "colab": {
          "base_uri": "https://localhost:8080/"
        },
        "id": "uMVPH4Yym77e",
        "outputId": "7b573eeb-b65e-48e6-9833-c5f4b2224fd4"
      },
      "source": [
        "q1 = file.quantile(0.25)\n",
        "q3 = numerical.quantile(0.75)\n",
        "iqr = q3-q1\n",
        "iqr"
      ],
      "execution_count": 114,
      "outputs": [
        {
          "output_type": "execute_result",
          "data": {
            "text/plain": [
              "Customer Lifetime Value           5081.516420\n",
              "Income                           60880.000000\n",
              "Monthly Premium Auto                41.000000\n",
              "Months Since Last Claim             16.000000\n",
              "Months Since Policy Inception       45.000000\n",
              "Number of Open Complaints            0.000000\n",
              "Number of Policies                   2.000000\n",
              "Total Claim Amount                 274.941756\n",
              "dtype: float64"
            ]
          },
          "metadata": {
            "tags": []
          },
          "execution_count": 114
        }
      ]
    },
    {
      "cell_type": "code",
      "metadata": {
        "colab": {
          "base_uri": "https://localhost:8080/",
          "height": 436
        },
        "id": "WaQwss7J1Dbj",
        "outputId": "6eb36077-f9bb-466f-9320-6a5ce2440df4"
      },
      "source": [
        "(numerical < (q1 - 1.5 * iqr))|(numerical > (q3 + 1.5 * iqr))"
      ],
      "execution_count": 115,
      "outputs": [
        {
          "output_type": "execute_result",
          "data": {
            "text/html": [
              "<div>\n",
              "<style scoped>\n",
              "    .dataframe tbody tr th:only-of-type {\n",
              "        vertical-align: middle;\n",
              "    }\n",
              "\n",
              "    .dataframe tbody tr th {\n",
              "        vertical-align: top;\n",
              "    }\n",
              "\n",
              "    .dataframe thead th {\n",
              "        text-align: right;\n",
              "    }\n",
              "</style>\n",
              "<table border=\"1\" class=\"dataframe\">\n",
              "  <thead>\n",
              "    <tr style=\"text-align: right;\">\n",
              "      <th></th>\n",
              "      <th>Customer Lifetime Value</th>\n",
              "      <th>Income</th>\n",
              "      <th>Monthly Premium Auto</th>\n",
              "      <th>Months Since Last Claim</th>\n",
              "      <th>Months Since Policy Inception</th>\n",
              "      <th>Number of Open Complaints</th>\n",
              "      <th>Number of Policies</th>\n",
              "      <th>Total Claim Amount</th>\n",
              "    </tr>\n",
              "  </thead>\n",
              "  <tbody>\n",
              "    <tr>\n",
              "      <th>5</th>\n",
              "      <td>False</td>\n",
              "      <td>False</td>\n",
              "      <td>False</td>\n",
              "      <td>False</td>\n",
              "      <td>False</td>\n",
              "      <td>False</td>\n",
              "      <td>False</td>\n",
              "      <td>False</td>\n",
              "    </tr>\n",
              "    <tr>\n",
              "      <th>6</th>\n",
              "      <td>False</td>\n",
              "      <td>False</td>\n",
              "      <td>False</td>\n",
              "      <td>False</td>\n",
              "      <td>False</td>\n",
              "      <td>False</td>\n",
              "      <td>True</td>\n",
              "      <td>False</td>\n",
              "    </tr>\n",
              "    <tr>\n",
              "      <th>8</th>\n",
              "      <td>True</td>\n",
              "      <td>False</td>\n",
              "      <td>False</td>\n",
              "      <td>False</td>\n",
              "      <td>False</td>\n",
              "      <td>False</td>\n",
              "      <td>False</td>\n",
              "      <td>False</td>\n",
              "    </tr>\n",
              "    <tr>\n",
              "      <th>13</th>\n",
              "      <td>False</td>\n",
              "      <td>False</td>\n",
              "      <td>False</td>\n",
              "      <td>False</td>\n",
              "      <td>False</td>\n",
              "      <td>True</td>\n",
              "      <td>True</td>\n",
              "      <td>False</td>\n",
              "    </tr>\n",
              "    <tr>\n",
              "      <th>22</th>\n",
              "      <td>True</td>\n",
              "      <td>False</td>\n",
              "      <td>False</td>\n",
              "      <td>False</td>\n",
              "      <td>False</td>\n",
              "      <td>False</td>\n",
              "      <td>False</td>\n",
              "      <td>False</td>\n",
              "    </tr>\n",
              "    <tr>\n",
              "      <th>...</th>\n",
              "      <td>...</td>\n",
              "      <td>...</td>\n",
              "      <td>...</td>\n",
              "      <td>...</td>\n",
              "      <td>...</td>\n",
              "      <td>...</td>\n",
              "      <td>...</td>\n",
              "      <td>...</td>\n",
              "    </tr>\n",
              "    <tr>\n",
              "      <th>9110</th>\n",
              "      <td>True</td>\n",
              "      <td>False</td>\n",
              "      <td>False</td>\n",
              "      <td>False</td>\n",
              "      <td>False</td>\n",
              "      <td>False</td>\n",
              "      <td>False</td>\n",
              "      <td>False</td>\n",
              "    </tr>\n",
              "    <tr>\n",
              "      <th>9119</th>\n",
              "      <td>False</td>\n",
              "      <td>False</td>\n",
              "      <td>False</td>\n",
              "      <td>False</td>\n",
              "      <td>False</td>\n",
              "      <td>True</td>\n",
              "      <td>False</td>\n",
              "      <td>False</td>\n",
              "    </tr>\n",
              "    <tr>\n",
              "      <th>9122</th>\n",
              "      <td>True</td>\n",
              "      <td>False</td>\n",
              "      <td>False</td>\n",
              "      <td>False</td>\n",
              "      <td>False</td>\n",
              "      <td>False</td>\n",
              "      <td>False</td>\n",
              "      <td>False</td>\n",
              "    </tr>\n",
              "    <tr>\n",
              "      <th>9123</th>\n",
              "      <td>False</td>\n",
              "      <td>False</td>\n",
              "      <td>False</td>\n",
              "      <td>False</td>\n",
              "      <td>False</td>\n",
              "      <td>False</td>\n",
              "      <td>False</td>\n",
              "      <td>False</td>\n",
              "    </tr>\n",
              "    <tr>\n",
              "      <th>9130</th>\n",
              "      <td>False</td>\n",
              "      <td>False</td>\n",
              "      <td>False</td>\n",
              "      <td>False</td>\n",
              "      <td>False</td>\n",
              "      <td>False</td>\n",
              "      <td>False</td>\n",
              "      <td>False</td>\n",
              "    </tr>\n",
              "  </tbody>\n",
              "</table>\n",
              "<p>1308 rows × 8 columns</p>\n",
              "</div>"
            ],
            "text/plain": [
              "      Customer Lifetime Value  Income  ...  Number of Policies  Total Claim Amount\n",
              "5                       False   False  ...               False               False\n",
              "6                       False   False  ...                True               False\n",
              "8                        True   False  ...               False               False\n",
              "13                      False   False  ...                True               False\n",
              "22                       True   False  ...               False               False\n",
              "...                       ...     ...  ...                 ...                 ...\n",
              "9110                     True   False  ...               False               False\n",
              "9119                    False   False  ...               False               False\n",
              "9122                     True   False  ...               False               False\n",
              "9123                    False   False  ...               False               False\n",
              "9130                    False   False  ...               False               False\n",
              "\n",
              "[1308 rows x 8 columns]"
            ]
          },
          "metadata": {
            "tags": []
          },
          "execution_count": 115
        }
      ]
    },
    {
      "cell_type": "code",
      "metadata": {
        "colab": {
          "base_uri": "https://localhost:8080/",
          "height": 436
        },
        "id": "r6pNpOJ-yzPn",
        "outputId": "394264e8-6b59-42da-a493-b6b579f73ed3"
      },
      "source": [
        "numerical = numerical.drop(['Customer Lifetime Value','Number of Open Complaints'], axis=1)#dropping these two features from this dataset\n",
        "numerical"
      ],
      "execution_count": 116,
      "outputs": [
        {
          "output_type": "execute_result",
          "data": {
            "text/html": [
              "<div>\n",
              "<style scoped>\n",
              "    .dataframe tbody tr th:only-of-type {\n",
              "        vertical-align: middle;\n",
              "    }\n",
              "\n",
              "    .dataframe tbody tr th {\n",
              "        vertical-align: top;\n",
              "    }\n",
              "\n",
              "    .dataframe thead th {\n",
              "        text-align: right;\n",
              "    }\n",
              "</style>\n",
              "<table border=\"1\" class=\"dataframe\">\n",
              "  <thead>\n",
              "    <tr style=\"text-align: right;\">\n",
              "      <th></th>\n",
              "      <th>Income</th>\n",
              "      <th>Monthly Premium Auto</th>\n",
              "      <th>Months Since Last Claim</th>\n",
              "      <th>Months Since Policy Inception</th>\n",
              "      <th>Number of Policies</th>\n",
              "      <th>Total Claim Amount</th>\n",
              "    </tr>\n",
              "  </thead>\n",
              "  <tbody>\n",
              "    <tr>\n",
              "      <th>5</th>\n",
              "      <td>62902</td>\n",
              "      <td>69</td>\n",
              "      <td>14</td>\n",
              "      <td>94</td>\n",
              "      <td>2</td>\n",
              "      <td>159.383042</td>\n",
              "    </tr>\n",
              "    <tr>\n",
              "      <th>6</th>\n",
              "      <td>55350</td>\n",
              "      <td>67</td>\n",
              "      <td>0</td>\n",
              "      <td>13</td>\n",
              "      <td>9</td>\n",
              "      <td>321.600000</td>\n",
              "    </tr>\n",
              "    <tr>\n",
              "      <th>8</th>\n",
              "      <td>14072</td>\n",
              "      <td>71</td>\n",
              "      <td>13</td>\n",
              "      <td>3</td>\n",
              "      <td>2</td>\n",
              "      <td>511.200000</td>\n",
              "    </tr>\n",
              "    <tr>\n",
              "      <th>13</th>\n",
              "      <td>99845</td>\n",
              "      <td>110</td>\n",
              "      <td>23</td>\n",
              "      <td>25</td>\n",
              "      <td>8</td>\n",
              "      <td>528.000000</td>\n",
              "    </tr>\n",
              "    <tr>\n",
              "      <th>22</th>\n",
              "      <td>14072</td>\n",
              "      <td>71</td>\n",
              "      <td>13</td>\n",
              "      <td>3</td>\n",
              "      <td>2</td>\n",
              "      <td>511.200000</td>\n",
              "    </tr>\n",
              "    <tr>\n",
              "      <th>...</th>\n",
              "      <td>...</td>\n",
              "      <td>...</td>\n",
              "      <td>...</td>\n",
              "      <td>...</td>\n",
              "      <td>...</td>\n",
              "      <td>...</td>\n",
              "    </tr>\n",
              "    <tr>\n",
              "      <th>9110</th>\n",
              "      <td>20090</td>\n",
              "      <td>109</td>\n",
              "      <td>10</td>\n",
              "      <td>59</td>\n",
              "      <td>2</td>\n",
              "      <td>523.200000</td>\n",
              "    </tr>\n",
              "    <tr>\n",
              "      <th>9119</th>\n",
              "      <td>56005</td>\n",
              "      <td>68</td>\n",
              "      <td>31</td>\n",
              "      <td>30</td>\n",
              "      <td>3</td>\n",
              "      <td>326.400000</td>\n",
              "    </tr>\n",
              "    <tr>\n",
              "      <th>9122</th>\n",
              "      <td>13663</td>\n",
              "      <td>97</td>\n",
              "      <td>1</td>\n",
              "      <td>66</td>\n",
              "      <td>2</td>\n",
              "      <td>465.600000</td>\n",
              "    </tr>\n",
              "    <tr>\n",
              "      <th>9123</th>\n",
              "      <td>0</td>\n",
              "      <td>76</td>\n",
              "      <td>8</td>\n",
              "      <td>44</td>\n",
              "      <td>3</td>\n",
              "      <td>364.800000</td>\n",
              "    </tr>\n",
              "    <tr>\n",
              "      <th>9130</th>\n",
              "      <td>21604</td>\n",
              "      <td>79</td>\n",
              "      <td>14</td>\n",
              "      <td>28</td>\n",
              "      <td>1</td>\n",
              "      <td>379.200000</td>\n",
              "    </tr>\n",
              "  </tbody>\n",
              "</table>\n",
              "<p>1308 rows × 6 columns</p>\n",
              "</div>"
            ],
            "text/plain": [
              "      Income  Monthly Premium Auto  ...  Number of Policies  Total Claim Amount\n",
              "5      62902                    69  ...                   2          159.383042\n",
              "6      55350                    67  ...                   9          321.600000\n",
              "8      14072                    71  ...                   2          511.200000\n",
              "13     99845                   110  ...                   8          528.000000\n",
              "22     14072                    71  ...                   2          511.200000\n",
              "...      ...                   ...  ...                 ...                 ...\n",
              "9110   20090                   109  ...                   2          523.200000\n",
              "9119   56005                    68  ...                   3          326.400000\n",
              "9122   13663                    97  ...                   2          465.600000\n",
              "9123       0                    76  ...                   3          364.800000\n",
              "9130   21604                    79  ...                   1          379.200000\n",
              "\n",
              "[1308 rows x 6 columns]"
            ]
          },
          "metadata": {
            "tags": []
          },
          "execution_count": 116
        }
      ]
    },
    {
      "cell_type": "code",
      "metadata": {
        "id": "NBCk9nxs9PzW"
      },
      "source": [
        ""
      ],
      "execution_count": 183,
      "outputs": []
    },
    {
      "cell_type": "markdown",
      "metadata": {
        "id": "WpapMx2sbOs6"
      },
      "source": [
        "This dataset is coming from a  particular year so extract the month from the dataset, if month would be a reason for the bussiness."
      ]
    },
    {
      "cell_type": "code",
      "metadata": {
        "colab": {
          "base_uri": "https://localhost:8080/",
          "height": 244
        },
        "id": "vsvmh8nq55t4",
        "outputId": "1e3fc467-6a6b-4f41-90b9-ce9151f510f1"
      },
      "source": [
        "catagorical.describe()"
      ],
      "execution_count": 117,
      "outputs": [
        {
          "output_type": "execute_result",
          "data": {
            "text/html": [
              "<div>\n",
              "<style scoped>\n",
              "    .dataframe tbody tr th:only-of-type {\n",
              "        vertical-align: middle;\n",
              "    }\n",
              "\n",
              "    .dataframe tbody tr th {\n",
              "        vertical-align: top;\n",
              "    }\n",
              "\n",
              "    .dataframe thead th {\n",
              "        text-align: right;\n",
              "    }\n",
              "</style>\n",
              "<table border=\"1\" class=\"dataframe\">\n",
              "  <thead>\n",
              "    <tr style=\"text-align: right;\">\n",
              "      <th></th>\n",
              "      <th>Customer</th>\n",
              "      <th>State</th>\n",
              "      <th>Response</th>\n",
              "      <th>Coverage</th>\n",
              "      <th>Education</th>\n",
              "      <th>Effective To Date</th>\n",
              "      <th>EmploymentStatus</th>\n",
              "      <th>Gender</th>\n",
              "      <th>Location Code</th>\n",
              "      <th>Marital Status</th>\n",
              "      <th>Policy Type</th>\n",
              "      <th>Policy</th>\n",
              "      <th>Renew Offer Type</th>\n",
              "      <th>Sales Channel</th>\n",
              "      <th>Vehicle Class</th>\n",
              "      <th>Vehicle Size</th>\n",
              "    </tr>\n",
              "  </thead>\n",
              "  <tbody>\n",
              "    <tr>\n",
              "      <th>count</th>\n",
              "      <td>1308</td>\n",
              "      <td>1308</td>\n",
              "      <td>1308</td>\n",
              "      <td>1308</td>\n",
              "      <td>1308</td>\n",
              "      <td>1308</td>\n",
              "      <td>1308</td>\n",
              "      <td>1308</td>\n",
              "      <td>1308</td>\n",
              "      <td>1308</td>\n",
              "      <td>1308</td>\n",
              "      <td>1308</td>\n",
              "      <td>1308</td>\n",
              "      <td>1308</td>\n",
              "      <td>1308</td>\n",
              "      <td>1308</td>\n",
              "    </tr>\n",
              "    <tr>\n",
              "      <th>unique</th>\n",
              "      <td>1308</td>\n",
              "      <td>5</td>\n",
              "      <td>1</td>\n",
              "      <td>3</td>\n",
              "      <td>5</td>\n",
              "      <td>57</td>\n",
              "      <td>5</td>\n",
              "      <td>2</td>\n",
              "      <td>3</td>\n",
              "      <td>3</td>\n",
              "      <td>3</td>\n",
              "      <td>9</td>\n",
              "      <td>3</td>\n",
              "      <td>4</td>\n",
              "      <td>6</td>\n",
              "      <td>3</td>\n",
              "    </tr>\n",
              "    <tr>\n",
              "      <th>top</th>\n",
              "      <td>KE63160</td>\n",
              "      <td>California</td>\n",
              "      <td>Yes</td>\n",
              "      <td>Basic</td>\n",
              "      <td>College</td>\n",
              "      <td>1/26/11</td>\n",
              "      <td>Employed</td>\n",
              "      <td>F</td>\n",
              "      <td>Suburban</td>\n",
              "      <td>Married</td>\n",
              "      <td>Personal Auto</td>\n",
              "      <td>Personal L3</td>\n",
              "      <td>Offer2</td>\n",
              "      <td>Agent</td>\n",
              "      <td>Four-Door Car</td>\n",
              "      <td>Medsize</td>\n",
              "    </tr>\n",
              "    <tr>\n",
              "      <th>freq</th>\n",
              "      <td>1</td>\n",
              "      <td>456</td>\n",
              "      <td>1308</td>\n",
              "      <td>798</td>\n",
              "      <td>408</td>\n",
              "      <td>54</td>\n",
              "      <td>756</td>\n",
              "      <td>660</td>\n",
              "      <td>1008</td>\n",
              "      <td>696</td>\n",
              "      <td>958</td>\n",
              "      <td>468</td>\n",
              "      <td>684</td>\n",
              "      <td>666</td>\n",
              "      <td>624</td>\n",
              "      <td>942</td>\n",
              "    </tr>\n",
              "  </tbody>\n",
              "</table>\n",
              "</div>"
            ],
            "text/plain": [
              "       Customer       State Response  ... Sales Channel  Vehicle Class Vehicle Size\n",
              "count      1308        1308     1308  ...          1308           1308         1308\n",
              "unique     1308           5        1  ...             4              6            3\n",
              "top     KE63160  California      Yes  ...         Agent  Four-Door Car      Medsize\n",
              "freq          1         456     1308  ...           666            624          942\n",
              "\n",
              "[4 rows x 16 columns]"
            ]
          },
          "metadata": {
            "tags": []
          },
          "execution_count": 117
        }
      ]
    },
    {
      "cell_type": "code",
      "metadata": {
        "id": "Lqvdyq1tcLgh"
      },
      "source": [
        ""
      ],
      "execution_count": 337,
      "outputs": []
    },
    {
      "cell_type": "code",
      "metadata": {
        "colab": {
          "base_uri": "https://localhost:8080/"
        },
        "id": "u2peahxT8HTZ",
        "outputId": "9c894aca-7852-4625-e5bd-5783d9c1b290"
      },
      "source": [
        "catagorical['month'] = pd.DatetimeIndex(catagorical['Effective To Date']).month \n",
        "catagorical['month'] = pd.to_numeric(catagorical['month'], errors='coerce')\n",
        "catagorical['month']"
      ],
      "execution_count": 118,
      "outputs": [
        {
          "output_type": "stream",
          "text": [
            "/usr/local/lib/python3.7/dist-packages/ipykernel_launcher.py:1: SettingWithCopyWarning: \n",
            "A value is trying to be set on a copy of a slice from a DataFrame.\n",
            "Try using .loc[row_indexer,col_indexer] = value instead\n",
            "\n",
            "See the caveats in the documentation: https://pandas.pydata.org/pandas-docs/stable/user_guide/indexing.html#returning-a-view-versus-a-copy\n",
            "  \"\"\"Entry point for launching an IPython kernel.\n",
            "/usr/local/lib/python3.7/dist-packages/ipykernel_launcher.py:2: SettingWithCopyWarning: \n",
            "A value is trying to be set on a copy of a slice from a DataFrame.\n",
            "Try using .loc[row_indexer,col_indexer] = value instead\n",
            "\n",
            "See the caveats in the documentation: https://pandas.pydata.org/pandas-docs/stable/user_guide/indexing.html#returning-a-view-versus-a-copy\n",
            "  \n"
          ],
          "name": "stderr"
        },
        {
          "output_type": "execute_result",
          "data": {
            "text/plain": [
              "5       1\n",
              "6       2\n",
              "8       1\n",
              "13      1\n",
              "22      1\n",
              "       ..\n",
              "9110    1\n",
              "9119    1\n",
              "9122    2\n",
              "9123    1\n",
              "9130    2\n",
              "Name: month, Length: 1308, dtype: int64"
            ]
          },
          "metadata": {
            "tags": []
          },
          "execution_count": 118
        }
      ]
    },
    {
      "cell_type": "code",
      "metadata": {
        "id": "-Rd4Ce5d8mJB"
      },
      "source": [
        ""
      ],
      "execution_count": null,
      "outputs": []
    },
    {
      "cell_type": "code",
      "metadata": {
        "id": "9awaNZRv7BWq"
      },
      "source": [
        ""
      ],
      "execution_count": 47,
      "outputs": []
    },
    {
      "cell_type": "code",
      "metadata": {
        "colab": {
          "base_uri": "https://localhost:8080/"
        },
        "id": "1JuRwPve8oWe",
        "outputId": "72699182-bb9f-4d35-d4f4-c93d7948d198"
      },
      "source": [
        "\n"
      ],
      "execution_count": 388,
      "outputs": [
        {
          "output_type": "execute_result",
          "data": {
            "text/plain": [
              "(1308, 16)"
            ]
          },
          "metadata": {
            "tags": []
          },
          "execution_count": 388
        }
      ]
    },
    {
      "cell_type": "code",
      "metadata": {
        "colab": {
          "base_uri": "https://localhost:8080/",
          "height": 1000
        },
        "id": "pdRLSrK89N8H",
        "outputId": "c432949a-58af-4f4a-b818-6e63c1fcb6e6"
      },
      "source": [
        "numerical.hist(figsize=(16, 20), bins=50, xlabelsize=8, ylabelsize=8)\n",
        "plt.show()# None of the features in the numerical data are  normal, some of the features are right skewed so transform the date in to another form."
      ],
      "execution_count": 119,
      "outputs": [
        {
          "output_type": "display_data",
          "data": {
            "image/png": "[encoded data removed]",
            "text/plain": [
              "<Figure size 1152x1440 with 6 Axes>"
            ]
          },
          "metadata": {
            "tags": [],
            "needs_background": "light"
          }
        }
      ]
    },
    {
      "cell_type": "code",
      "metadata": {
        "id": "35oA-KeM15x_"
      },
      "source": [
        "\n"
      ],
      "execution_count": 48,
      "outputs": []
    },
    {
      "cell_type": "markdown",
      "metadata": {
        "id": "UK0VDud3gGQB"
      },
      "source": [
        "Catagorical should be transform to numerical for the prediction model."
      ]
    },
    {
      "cell_type": "code",
      "metadata": {
        "colab": {
          "base_uri": "https://localhost:8080/",
          "height": 661
        },
        "id": "5fQtsyXhAb2Y",
        "outputId": "4fea41b2-9e6c-4866-87cc-719e6b23e69e"
      },
      "source": [
        "from sklearn.preprocessing import OneHotEncoder\n",
        "encoder = OneHotEncoder(drop='first').fit(catagorical)\n",
        "print(encoder.categories_)\n",
        "encoded = encoder.transform(catagorical).toarray()\n",
        "print(encoded)\n",
        "onehot_encoded = pd.DataFrame(encoded)#columns=encoder.categories_)\n",
        "onehot_encoded.head()\n"
      ],
      "execution_count": 120,
      "outputs": [
        {
          "output_type": "stream",
          "text": [
            "[array(['AA16582', 'AA35519', 'AA56476', ..., 'ZX93551', 'ZZ22047',\n",
            "       'ZZ49347'], dtype=object), array(['Arizona', 'California', 'Nevada', 'Oregon', 'Washington'],\n",
            "      dtype=object), array(['Yes'], dtype=object), array(['Basic', 'Extended', 'Premium'], dtype=object), array(['Bachelor', 'College', 'Doctor', 'High School or Below', 'Master'],\n",
            "      dtype=object), array(['1/1/11', '1/10/11', '1/11/11', '1/12/11', '1/13/11', '1/14/11',\n",
            "       '1/15/11', '1/16/11', '1/17/11', '1/18/11', '1/19/11', '1/2/11',\n",
            "       '1/20/11', '1/21/11', '1/23/11', '1/24/11', '1/25/11', '1/26/11',\n",
            "       '1/27/11', '1/28/11', '1/29/11', '1/3/11', '1/30/11', '1/31/11',\n",
            "       '1/5/11', '1/6/11', '1/7/11', '1/8/11', '1/9/11', '2/1/11',\n",
            "       '2/10/11', '2/11/11', '2/12/11', '2/13/11', '2/14/11', '2/15/11',\n",
            "       '2/16/11', '2/17/11', '2/18/11', '2/19/11', '2/2/11', '2/20/11',\n",
            "       '2/21/11', '2/22/11', '2/23/11', '2/24/11', '2/25/11', '2/26/11',\n",
            "       '2/27/11', '2/28/11', '2/3/11', '2/4/11', '2/5/11', '2/6/11',\n",
            "       '2/7/11', '2/8/11', '2/9/11'], dtype=object), array(['Disabled', 'Employed', 'Medical Leave', 'Retired', 'Unemployed'],\n",
            "      dtype=object), array(['F', 'M'], dtype=object), array(['Rural', 'Suburban', 'Urban'], dtype=object), array(['Divorced', 'Married', 'Single'], dtype=object), array(['Corporate Auto', 'Personal Auto', 'Special Auto'], dtype=object), array(['Corporate L1', 'Corporate L2', 'Corporate L3', 'Personal L1',\n",
            "       'Personal L2', 'Personal L3', 'Special L1', 'Special L2',\n",
            "       'Special L3'], dtype=object), array(['Offer1', 'Offer2', 'Offer3'], dtype=object), array(['Agent', 'Branch', 'Call Center', 'Web'], dtype=object), array(['Four-Door Car', 'Luxury Car', 'Luxury SUV', 'SUV', 'Sports Car',\n",
            "       'Two-Door Car'], dtype=object), array(['Large', 'Medsize', 'Small'], dtype=object), array([1, 2])]\n",
            "[[0. 0. 0. ... 1. 0. 0.]\n",
            " [0. 0. 0. ... 1. 0. 1.]\n",
            " [0. 0. 0. ... 1. 0. 0.]\n",
            " ...\n",
            " [0. 0. 0. ... 0. 1. 1.]\n",
            " [0. 0. 0. ... 0. 1. 0.]\n",
            " [0. 0. 0. ... 1. 0. 1.]]\n"
          ],
          "name": "stdout"
        },
        {
          "output_type": "execute_result",
          "data": {
            "text/html": [
              "<div>\n",
              "<style scoped>\n",
              "    .dataframe tbody tr th:only-of-type {\n",
              "        vertical-align: middle;\n",
              "    }\n",
              "\n",
              "    .dataframe tbody tr th {\n",
              "        vertical-align: top;\n",
              "    }\n",
              "\n",
              "    .dataframe thead th {\n",
              "        text-align: right;\n",
              "    }\n",
              "</style>\n",
              "<table border=\"1\" class=\"dataframe\">\n",
              "  <thead>\n",
              "    <tr style=\"text-align: right;\">\n",
              "      <th></th>\n",
              "      <th>0</th>\n",
              "      <th>1</th>\n",
              "      <th>2</th>\n",
              "      <th>3</th>\n",
              "      <th>4</th>\n",
              "      <th>5</th>\n",
              "      <th>6</th>\n",
              "      <th>7</th>\n",
              "      <th>8</th>\n",
              "      <th>9</th>\n",
              "      <th>10</th>\n",
              "      <th>11</th>\n",
              "      <th>12</th>\n",
              "      <th>13</th>\n",
              "      <th>14</th>\n",
              "      <th>15</th>\n",
              "      <th>16</th>\n",
              "      <th>17</th>\n",
              "      <th>18</th>\n",
              "      <th>19</th>\n",
              "      <th>20</th>\n",
              "      <th>21</th>\n",
              "      <th>22</th>\n",
              "      <th>23</th>\n",
              "      <th>24</th>\n",
              "      <th>25</th>\n",
              "      <th>26</th>\n",
              "      <th>27</th>\n",
              "      <th>28</th>\n",
              "      <th>29</th>\n",
              "      <th>30</th>\n",
              "      <th>31</th>\n",
              "      <th>32</th>\n",
              "      <th>33</th>\n",
              "      <th>34</th>\n",
              "      <th>35</th>\n",
              "      <th>36</th>\n",
              "      <th>37</th>\n",
              "      <th>38</th>\n",
              "      <th>39</th>\n",
              "      <th>...</th>\n",
              "      <th>1365</th>\n",
              "      <th>1366</th>\n",
              "      <th>1367</th>\n",
              "      <th>1368</th>\n",
              "      <th>1369</th>\n",
              "      <th>1370</th>\n",
              "      <th>1371</th>\n",
              "      <th>1372</th>\n",
              "      <th>1373</th>\n",
              "      <th>1374</th>\n",
              "      <th>1375</th>\n",
              "      <th>1376</th>\n",
              "      <th>1377</th>\n",
              "      <th>1378</th>\n",
              "      <th>1379</th>\n",
              "      <th>1380</th>\n",
              "      <th>1381</th>\n",
              "      <th>1382</th>\n",
              "      <th>1383</th>\n",
              "      <th>1384</th>\n",
              "      <th>1385</th>\n",
              "      <th>1386</th>\n",
              "      <th>1387</th>\n",
              "      <th>1388</th>\n",
              "      <th>1389</th>\n",
              "      <th>1390</th>\n",
              "      <th>1391</th>\n",
              "      <th>1392</th>\n",
              "      <th>1393</th>\n",
              "      <th>1394</th>\n",
              "      <th>1395</th>\n",
              "      <th>1396</th>\n",
              "      <th>1397</th>\n",
              "      <th>1398</th>\n",
              "      <th>1399</th>\n",
              "      <th>1400</th>\n",
              "      <th>1401</th>\n",
              "      <th>1402</th>\n",
              "      <th>1403</th>\n",
              "      <th>1404</th>\n",
              "    </tr>\n",
              "  </thead>\n",
              "  <tbody>\n",
              "    <tr>\n",
              "      <th>0</th>\n",
              "      <td>0.0</td>\n",
              "      <td>0.0</td>\n",
              "      <td>0.0</td>\n",
              "      <td>0.0</td>\n",
              "      <td>0.0</td>\n",
              "      <td>0.0</td>\n",
              "      <td>0.0</td>\n",
              "      <td>0.0</td>\n",
              "      <td>0.0</td>\n",
              "      <td>0.0</td>\n",
              "      <td>0.0</td>\n",
              "      <td>0.0</td>\n",
              "      <td>0.0</td>\n",
              "      <td>0.0</td>\n",
              "      <td>0.0</td>\n",
              "      <td>0.0</td>\n",
              "      <td>0.0</td>\n",
              "      <td>0.0</td>\n",
              "      <td>0.0</td>\n",
              "      <td>0.0</td>\n",
              "      <td>0.0</td>\n",
              "      <td>0.0</td>\n",
              "      <td>0.0</td>\n",
              "      <td>0.0</td>\n",
              "      <td>0.0</td>\n",
              "      <td>0.0</td>\n",
              "      <td>0.0</td>\n",
              "      <td>0.0</td>\n",
              "      <td>0.0</td>\n",
              "      <td>0.0</td>\n",
              "      <td>0.0</td>\n",
              "      <td>0.0</td>\n",
              "      <td>0.0</td>\n",
              "      <td>0.0</td>\n",
              "      <td>0.0</td>\n",
              "      <td>0.0</td>\n",
              "      <td>0.0</td>\n",
              "      <td>0.0</td>\n",
              "      <td>0.0</td>\n",
              "      <td>0.0</td>\n",
              "      <td>...</td>\n",
              "      <td>0.0</td>\n",
              "      <td>0.0</td>\n",
              "      <td>0.0</td>\n",
              "      <td>0.0</td>\n",
              "      <td>0.0</td>\n",
              "      <td>0.0</td>\n",
              "      <td>0.0</td>\n",
              "      <td>0.0</td>\n",
              "      <td>1.0</td>\n",
              "      <td>0.0</td>\n",
              "      <td>0.0</td>\n",
              "      <td>0.0</td>\n",
              "      <td>0.0</td>\n",
              "      <td>0.0</td>\n",
              "      <td>0.0</td>\n",
              "      <td>1.0</td>\n",
              "      <td>0.0</td>\n",
              "      <td>1.0</td>\n",
              "      <td>0.0</td>\n",
              "      <td>0.0</td>\n",
              "      <td>0.0</td>\n",
              "      <td>0.0</td>\n",
              "      <td>0.0</td>\n",
              "      <td>1.0</td>\n",
              "      <td>0.0</td>\n",
              "      <td>0.0</td>\n",
              "      <td>0.0</td>\n",
              "      <td>1.0</td>\n",
              "      <td>0.0</td>\n",
              "      <td>0.0</td>\n",
              "      <td>0.0</td>\n",
              "      <td>1.0</td>\n",
              "      <td>0.0</td>\n",
              "      <td>0.0</td>\n",
              "      <td>0.0</td>\n",
              "      <td>0.0</td>\n",
              "      <td>1.0</td>\n",
              "      <td>1.0</td>\n",
              "      <td>0.0</td>\n",
              "      <td>0.0</td>\n",
              "    </tr>\n",
              "    <tr>\n",
              "      <th>1</th>\n",
              "      <td>0.0</td>\n",
              "      <td>0.0</td>\n",
              "      <td>0.0</td>\n",
              "      <td>0.0</td>\n",
              "      <td>0.0</td>\n",
              "      <td>0.0</td>\n",
              "      <td>0.0</td>\n",
              "      <td>0.0</td>\n",
              "      <td>0.0</td>\n",
              "      <td>0.0</td>\n",
              "      <td>0.0</td>\n",
              "      <td>0.0</td>\n",
              "      <td>0.0</td>\n",
              "      <td>0.0</td>\n",
              "      <td>0.0</td>\n",
              "      <td>0.0</td>\n",
              "      <td>0.0</td>\n",
              "      <td>0.0</td>\n",
              "      <td>0.0</td>\n",
              "      <td>0.0</td>\n",
              "      <td>0.0</td>\n",
              "      <td>0.0</td>\n",
              "      <td>0.0</td>\n",
              "      <td>0.0</td>\n",
              "      <td>0.0</td>\n",
              "      <td>0.0</td>\n",
              "      <td>0.0</td>\n",
              "      <td>0.0</td>\n",
              "      <td>0.0</td>\n",
              "      <td>0.0</td>\n",
              "      <td>0.0</td>\n",
              "      <td>0.0</td>\n",
              "      <td>0.0</td>\n",
              "      <td>0.0</td>\n",
              "      <td>0.0</td>\n",
              "      <td>0.0</td>\n",
              "      <td>0.0</td>\n",
              "      <td>0.0</td>\n",
              "      <td>0.0</td>\n",
              "      <td>0.0</td>\n",
              "      <td>...</td>\n",
              "      <td>0.0</td>\n",
              "      <td>0.0</td>\n",
              "      <td>0.0</td>\n",
              "      <td>0.0</td>\n",
              "      <td>0.0</td>\n",
              "      <td>0.0</td>\n",
              "      <td>0.0</td>\n",
              "      <td>0.0</td>\n",
              "      <td>1.0</td>\n",
              "      <td>0.0</td>\n",
              "      <td>0.0</td>\n",
              "      <td>0.0</td>\n",
              "      <td>0.0</td>\n",
              "      <td>1.0</td>\n",
              "      <td>0.0</td>\n",
              "      <td>1.0</td>\n",
              "      <td>0.0</td>\n",
              "      <td>0.0</td>\n",
              "      <td>0.0</td>\n",
              "      <td>0.0</td>\n",
              "      <td>1.0</td>\n",
              "      <td>0.0</td>\n",
              "      <td>0.0</td>\n",
              "      <td>0.0</td>\n",
              "      <td>0.0</td>\n",
              "      <td>0.0</td>\n",
              "      <td>0.0</td>\n",
              "      <td>0.0</td>\n",
              "      <td>0.0</td>\n",
              "      <td>0.0</td>\n",
              "      <td>0.0</td>\n",
              "      <td>0.0</td>\n",
              "      <td>0.0</td>\n",
              "      <td>0.0</td>\n",
              "      <td>0.0</td>\n",
              "      <td>0.0</td>\n",
              "      <td>0.0</td>\n",
              "      <td>1.0</td>\n",
              "      <td>0.0</td>\n",
              "      <td>1.0</td>\n",
              "    </tr>\n",
              "    <tr>\n",
              "      <th>2</th>\n",
              "      <td>0.0</td>\n",
              "      <td>0.0</td>\n",
              "      <td>0.0</td>\n",
              "      <td>0.0</td>\n",
              "      <td>0.0</td>\n",
              "      <td>0.0</td>\n",
              "      <td>0.0</td>\n",
              "      <td>0.0</td>\n",
              "      <td>0.0</td>\n",
              "      <td>0.0</td>\n",
              "      <td>0.0</td>\n",
              "      <td>0.0</td>\n",
              "      <td>0.0</td>\n",
              "      <td>0.0</td>\n",
              "      <td>0.0</td>\n",
              "      <td>0.0</td>\n",
              "      <td>0.0</td>\n",
              "      <td>0.0</td>\n",
              "      <td>0.0</td>\n",
              "      <td>0.0</td>\n",
              "      <td>0.0</td>\n",
              "      <td>0.0</td>\n",
              "      <td>0.0</td>\n",
              "      <td>0.0</td>\n",
              "      <td>0.0</td>\n",
              "      <td>0.0</td>\n",
              "      <td>0.0</td>\n",
              "      <td>0.0</td>\n",
              "      <td>0.0</td>\n",
              "      <td>0.0</td>\n",
              "      <td>0.0</td>\n",
              "      <td>0.0</td>\n",
              "      <td>0.0</td>\n",
              "      <td>0.0</td>\n",
              "      <td>0.0</td>\n",
              "      <td>0.0</td>\n",
              "      <td>0.0</td>\n",
              "      <td>0.0</td>\n",
              "      <td>0.0</td>\n",
              "      <td>0.0</td>\n",
              "      <td>...</td>\n",
              "      <td>0.0</td>\n",
              "      <td>0.0</td>\n",
              "      <td>0.0</td>\n",
              "      <td>0.0</td>\n",
              "      <td>0.0</td>\n",
              "      <td>0.0</td>\n",
              "      <td>0.0</td>\n",
              "      <td>0.0</td>\n",
              "      <td>0.0</td>\n",
              "      <td>1.0</td>\n",
              "      <td>0.0</td>\n",
              "      <td>0.0</td>\n",
              "      <td>1.0</td>\n",
              "      <td>1.0</td>\n",
              "      <td>0.0</td>\n",
              "      <td>0.0</td>\n",
              "      <td>0.0</td>\n",
              "      <td>0.0</td>\n",
              "      <td>0.0</td>\n",
              "      <td>0.0</td>\n",
              "      <td>1.0</td>\n",
              "      <td>0.0</td>\n",
              "      <td>0.0</td>\n",
              "      <td>0.0</td>\n",
              "      <td>0.0</td>\n",
              "      <td>0.0</td>\n",
              "      <td>0.0</td>\n",
              "      <td>0.0</td>\n",
              "      <td>0.0</td>\n",
              "      <td>0.0</td>\n",
              "      <td>0.0</td>\n",
              "      <td>0.0</td>\n",
              "      <td>0.0</td>\n",
              "      <td>0.0</td>\n",
              "      <td>0.0</td>\n",
              "      <td>0.0</td>\n",
              "      <td>0.0</td>\n",
              "      <td>1.0</td>\n",
              "      <td>0.0</td>\n",
              "      <td>0.0</td>\n",
              "    </tr>\n",
              "    <tr>\n",
              "      <th>3</th>\n",
              "      <td>0.0</td>\n",
              "      <td>0.0</td>\n",
              "      <td>0.0</td>\n",
              "      <td>0.0</td>\n",
              "      <td>0.0</td>\n",
              "      <td>0.0</td>\n",
              "      <td>0.0</td>\n",
              "      <td>0.0</td>\n",
              "      <td>0.0</td>\n",
              "      <td>0.0</td>\n",
              "      <td>0.0</td>\n",
              "      <td>0.0</td>\n",
              "      <td>0.0</td>\n",
              "      <td>0.0</td>\n",
              "      <td>0.0</td>\n",
              "      <td>0.0</td>\n",
              "      <td>0.0</td>\n",
              "      <td>0.0</td>\n",
              "      <td>0.0</td>\n",
              "      <td>0.0</td>\n",
              "      <td>0.0</td>\n",
              "      <td>0.0</td>\n",
              "      <td>0.0</td>\n",
              "      <td>0.0</td>\n",
              "      <td>0.0</td>\n",
              "      <td>0.0</td>\n",
              "      <td>0.0</td>\n",
              "      <td>0.0</td>\n",
              "      <td>0.0</td>\n",
              "      <td>0.0</td>\n",
              "      <td>0.0</td>\n",
              "      <td>0.0</td>\n",
              "      <td>0.0</td>\n",
              "      <td>0.0</td>\n",
              "      <td>0.0</td>\n",
              "      <td>0.0</td>\n",
              "      <td>0.0</td>\n",
              "      <td>0.0</td>\n",
              "      <td>0.0</td>\n",
              "      <td>0.0</td>\n",
              "      <td>...</td>\n",
              "      <td>0.0</td>\n",
              "      <td>0.0</td>\n",
              "      <td>0.0</td>\n",
              "      <td>0.0</td>\n",
              "      <td>0.0</td>\n",
              "      <td>0.0</td>\n",
              "      <td>0.0</td>\n",
              "      <td>0.0</td>\n",
              "      <td>1.0</td>\n",
              "      <td>0.0</td>\n",
              "      <td>0.0</td>\n",
              "      <td>0.0</td>\n",
              "      <td>1.0</td>\n",
              "      <td>1.0</td>\n",
              "      <td>0.0</td>\n",
              "      <td>1.0</td>\n",
              "      <td>0.0</td>\n",
              "      <td>0.0</td>\n",
              "      <td>0.0</td>\n",
              "      <td>0.0</td>\n",
              "      <td>1.0</td>\n",
              "      <td>0.0</td>\n",
              "      <td>0.0</td>\n",
              "      <td>0.0</td>\n",
              "      <td>0.0</td>\n",
              "      <td>0.0</td>\n",
              "      <td>0.0</td>\n",
              "      <td>1.0</td>\n",
              "      <td>0.0</td>\n",
              "      <td>1.0</td>\n",
              "      <td>0.0</td>\n",
              "      <td>0.0</td>\n",
              "      <td>0.0</td>\n",
              "      <td>0.0</td>\n",
              "      <td>1.0</td>\n",
              "      <td>0.0</td>\n",
              "      <td>0.0</td>\n",
              "      <td>1.0</td>\n",
              "      <td>0.0</td>\n",
              "      <td>0.0</td>\n",
              "    </tr>\n",
              "    <tr>\n",
              "      <th>4</th>\n",
              "      <td>0.0</td>\n",
              "      <td>0.0</td>\n",
              "      <td>0.0</td>\n",
              "      <td>0.0</td>\n",
              "      <td>0.0</td>\n",
              "      <td>0.0</td>\n",
              "      <td>0.0</td>\n",
              "      <td>0.0</td>\n",
              "      <td>0.0</td>\n",
              "      <td>0.0</td>\n",
              "      <td>0.0</td>\n",
              "      <td>0.0</td>\n",
              "      <td>0.0</td>\n",
              "      <td>0.0</td>\n",
              "      <td>0.0</td>\n",
              "      <td>0.0</td>\n",
              "      <td>0.0</td>\n",
              "      <td>0.0</td>\n",
              "      <td>0.0</td>\n",
              "      <td>0.0</td>\n",
              "      <td>0.0</td>\n",
              "      <td>0.0</td>\n",
              "      <td>0.0</td>\n",
              "      <td>0.0</td>\n",
              "      <td>0.0</td>\n",
              "      <td>0.0</td>\n",
              "      <td>0.0</td>\n",
              "      <td>0.0</td>\n",
              "      <td>0.0</td>\n",
              "      <td>0.0</td>\n",
              "      <td>0.0</td>\n",
              "      <td>0.0</td>\n",
              "      <td>0.0</td>\n",
              "      <td>0.0</td>\n",
              "      <td>0.0</td>\n",
              "      <td>0.0</td>\n",
              "      <td>0.0</td>\n",
              "      <td>0.0</td>\n",
              "      <td>0.0</td>\n",
              "      <td>0.0</td>\n",
              "      <td>...</td>\n",
              "      <td>0.0</td>\n",
              "      <td>0.0</td>\n",
              "      <td>0.0</td>\n",
              "      <td>0.0</td>\n",
              "      <td>0.0</td>\n",
              "      <td>0.0</td>\n",
              "      <td>0.0</td>\n",
              "      <td>0.0</td>\n",
              "      <td>0.0</td>\n",
              "      <td>1.0</td>\n",
              "      <td>0.0</td>\n",
              "      <td>0.0</td>\n",
              "      <td>1.0</td>\n",
              "      <td>1.0</td>\n",
              "      <td>0.0</td>\n",
              "      <td>0.0</td>\n",
              "      <td>0.0</td>\n",
              "      <td>1.0</td>\n",
              "      <td>0.0</td>\n",
              "      <td>0.0</td>\n",
              "      <td>0.0</td>\n",
              "      <td>0.0</td>\n",
              "      <td>0.0</td>\n",
              "      <td>1.0</td>\n",
              "      <td>0.0</td>\n",
              "      <td>0.0</td>\n",
              "      <td>0.0</td>\n",
              "      <td>0.0</td>\n",
              "      <td>0.0</td>\n",
              "      <td>0.0</td>\n",
              "      <td>0.0</td>\n",
              "      <td>0.0</td>\n",
              "      <td>0.0</td>\n",
              "      <td>0.0</td>\n",
              "      <td>0.0</td>\n",
              "      <td>0.0</td>\n",
              "      <td>0.0</td>\n",
              "      <td>1.0</td>\n",
              "      <td>0.0</td>\n",
              "      <td>0.0</td>\n",
              "    </tr>\n",
              "  </tbody>\n",
              "</table>\n",
              "<p>5 rows × 1405 columns</p>\n",
              "</div>"
            ],
            "text/plain": [
              "   0     1     2     3     4     5     ...  1399  1400  1401  1402  1403  1404\n",
              "0   0.0   0.0   0.0   0.0   0.0   0.0  ...   0.0   0.0   1.0   1.0   0.0   0.0\n",
              "1   0.0   0.0   0.0   0.0   0.0   0.0  ...   0.0   0.0   0.0   1.0   0.0   1.0\n",
              "2   0.0   0.0   0.0   0.0   0.0   0.0  ...   0.0   0.0   0.0   1.0   0.0   0.0\n",
              "3   0.0   0.0   0.0   0.0   0.0   0.0  ...   1.0   0.0   0.0   1.0   0.0   0.0\n",
              "4   0.0   0.0   0.0   0.0   0.0   0.0  ...   0.0   0.0   0.0   1.0   0.0   0.0\n",
              "\n",
              "[5 rows x 1405 columns]"
            ]
          },
          "metadata": {
            "tags": []
          },
          "execution_count": 120
        }
      ]
    },
    {
      "cell_type": "code",
      "metadata": {
        "id": "O0bx2EKTCV7J"
      },
      "source": [
        ""
      ],
      "execution_count": 390,
      "outputs": []
    },
    {
      "cell_type": "code",
      "metadata": {
        "colab": {
          "base_uri": "https://localhost:8080/"
        },
        "id": "6E-PyWTWIQC2",
        "outputId": "37a8d685-5ebb-481f-eb5d-956bb740fe1d"
      },
      "source": [
        "onehot_encoded.head"
      ],
      "execution_count": 121,
      "outputs": [
        {
          "output_type": "execute_result",
          "data": {
            "text/plain": [
              "<bound method NDFrame.head of       0     1     2     3     4     5     ...  1399  1400  1401  1402  1403  1404\n",
              "0      0.0   0.0   0.0   0.0   0.0   0.0  ...   0.0   0.0   1.0   1.0   0.0   0.0\n",
              "1      0.0   0.0   0.0   0.0   0.0   0.0  ...   0.0   0.0   0.0   1.0   0.0   1.0\n",
              "2      0.0   0.0   0.0   0.0   0.0   0.0  ...   0.0   0.0   0.0   1.0   0.0   0.0\n",
              "3      0.0   0.0   0.0   0.0   0.0   0.0  ...   1.0   0.0   0.0   1.0   0.0   0.0\n",
              "4      0.0   0.0   0.0   0.0   0.0   0.0  ...   0.0   0.0   0.0   1.0   0.0   0.0\n",
              "...    ...   ...   ...   ...   ...   ...  ...   ...   ...   ...   ...   ...   ...\n",
              "1303   0.0   0.0   0.0   0.0   0.0   0.0  ...   0.0   1.0   0.0   1.0   0.0   0.0\n",
              "1304   0.0   0.0   0.0   0.0   0.0   0.0  ...   0.0   0.0   0.0   0.0   1.0   0.0\n",
              "1305   0.0   0.0   0.0   0.0   0.0   0.0  ...   0.0   0.0   0.0   0.0   1.0   1.0\n",
              "1306   0.0   0.0   0.0   0.0   0.0   0.0  ...   0.0   0.0   0.0   0.0   1.0   0.0\n",
              "1307   0.0   0.0   0.0   0.0   0.0   0.0  ...   0.0   0.0   0.0   1.0   0.0   1.0\n",
              "\n",
              "[1308 rows x 1405 columns]>"
            ]
          },
          "metadata": {
            "tags": []
          },
          "execution_count": 121
        }
      ]
    },
    {
      "cell_type": "code",
      "metadata": {
        "colab": {
          "base_uri": "https://localhost:8080/"
        },
        "id": "U0OtQOHVv14s",
        "outputId": "771a115b-0d1e-4286-e56b-01267b549e00"
      },
      "source": [
        "from sklearn.preprocessing import LabelEncoder\n",
        "label_encoded1 = LabelEncoder().fit(catagorical['State']).transform(catagorical['State'])\n",
        "label_encoded1 = pd.DataFrame(label_encoded1, columns=['State'])\n",
        "label_encoded2 = LabelEncoder().fit(catagorical['Coverage']).transform(catagorical['Coverage']) # ordered wrt value counts\n",
        "label_encoded2 = pd.DataFrame(label_encoded2, columns=['Coverage'])\n",
        "label_encoded3 = LabelEncoder().fit(catagorical['month']).transform(catagorical['month'])\n",
        "label_encoded3 = pd.DataFrame(label_encoded3, columns=['month'])\n",
        "label_encoded4 = LabelEncoder().fit(catagorical['Policy Type']).transform(catagorical['Policy Type'])\n",
        "label_encoded4 = pd.DataFrame(label_encoded4, columns=['Policy Type'])\n",
        "label_encoded5 = LabelEncoder().fit(catagorical['EmploymentStatus']).transform(catagorical['EmploymentStatus'])\n",
        "label_encoded5 = pd.DataFrame(label_encoded5, columns=['EmploymentStatus'])\n",
        "label_encoded6 = LabelEncoder().fit(catagorical['Renew Offer Type']).transform(catagorical['Renew Offer Type'])\n",
        "label_encoded6 = pd.DataFrame(label_encoded6, columns=['Renew Offer Type'])\n",
        "print(label_encoded1)\n",
        "print(label_encoded2)\n",
        "print(label_encoded3)\n",
        "print(label_encoded4)\n",
        "print(label_encoded5)\n",
        "print(label_encoded6)"
      ],
      "execution_count": 122,
      "outputs": [
        {
          "output_type": "stream",
          "text": [
            "      State\n",
            "0         3\n",
            "1         3\n",
            "2         3\n",
            "3         0\n",
            "4         0\n",
            "...     ...\n",
            "1303      1\n",
            "1304      1\n",
            "1305      1\n",
            "1306      1\n",
            "1307      1\n",
            "\n",
            "[1308 rows x 1 columns]\n",
            "      Coverage\n",
            "0            0\n",
            "1            0\n",
            "2            0\n",
            "3            0\n",
            "4            0\n",
            "...        ...\n",
            "1303         0\n",
            "1304         0\n",
            "1305         1\n",
            "1306         1\n",
            "1307         1\n",
            "\n",
            "[1308 rows x 1 columns]\n",
            "      month\n",
            "0         0\n",
            "1         1\n",
            "2         0\n",
            "3         0\n",
            "4         0\n",
            "...     ...\n",
            "1303      0\n",
            "1304      0\n",
            "1305      1\n",
            "1306      0\n",
            "1307      1\n",
            "\n",
            "[1308 rows x 1 columns]\n",
            "      Policy Type\n",
            "0               1\n",
            "1               0\n",
            "2               0\n",
            "3               0\n",
            "4               1\n",
            "...           ...\n",
            "1303            1\n",
            "1304            0\n",
            "1305            1\n",
            "1306            1\n",
            "1307            0\n",
            "\n",
            "[1308 rows x 1 columns]\n",
            "      EmploymentStatus\n",
            "0                    1\n",
            "1                    1\n",
            "2                    2\n",
            "3                    1\n",
            "4                    2\n",
            "...                ...\n",
            "1303                 1\n",
            "1304                 1\n",
            "1305                 3\n",
            "1306                 4\n",
            "1307                 1\n",
            "\n",
            "[1308 rows x 1 columns]\n",
            "      Renew Offer Type\n",
            "0                    1\n",
            "1                    0\n",
            "2                    0\n",
            "3                    1\n",
            "4                    0\n",
            "...                ...\n",
            "1303                 1\n",
            "1304                 0\n",
            "1305                 0\n",
            "1306                 1\n",
            "1307                 0\n",
            "\n",
            "[1308 rows x 1 columns]\n"
          ],
          "name": "stdout"
        }
      ]
    },
    {
      "cell_type": "code",
      "metadata": {
        "id": "nBUr9TlZxXuO"
      },
      "source": [
        ""
      ],
      "execution_count": null,
      "outputs": []
    },
    {
      "cell_type": "code",
      "metadata": {
        "id": "sUd7f2FsxXrg"
      },
      "source": [
        ""
      ],
      "execution_count": 26,
      "outputs": []
    },
    {
      "cell_type": "code",
      "metadata": {
        "id": "eJgSWurexXm5"
      },
      "source": [
        ""
      ],
      "execution_count": null,
      "outputs": []
    },
    {
      "cell_type": "code",
      "metadata": {
        "id": "iGtU_mjQxXiH"
      },
      "source": [
        ""
      ],
      "execution_count": null,
      "outputs": []
    },
    {
      "cell_type": "code",
      "metadata": {
        "id": "UpaiASl8xXgb"
      },
      "source": [
        ""
      ],
      "execution_count": null,
      "outputs": []
    },
    {
      "cell_type": "code",
      "metadata": {
        "id": "X_pS9Sm-xXbW"
      },
      "source": [
        ""
      ],
      "execution_count": null,
      "outputs": []
    },
    {
      "cell_type": "code",
      "metadata": {
        "id": "TJQOKVVRxXVJ"
      },
      "source": [
        ""
      ],
      "execution_count": null,
      "outputs": []
    },
    {
      "cell_type": "code",
      "metadata": {
        "id": "ujQey0AfxXQ4"
      },
      "source": [
        ""
      ],
      "execution_count": null,
      "outputs": []
    },
    {
      "cell_type": "markdown",
      "metadata": {
        "id": "R5lLGkAEgwHX"
      },
      "source": [
        "Numerical data transformed in to smaller scale and  how the data correlated each other by correllation matrix.Here all the features are correlated but not high correlation.No feature shows greater than 0.9 it means that dropping impossible in this case.The next step is to make a prediction model by linear regression.For prdiction the whole model split in to test and train."
      ]
    },
    {
      "cell_type": "code",
      "metadata": {
        "id": "RVpiedSVJeU1"
      },
      "source": [
        ""
      ],
      "execution_count": 122,
      "outputs": []
    },
    {
      "cell_type": "code",
      "metadata": {
        "colab": {
          "base_uri": "https://localhost:8080/"
        },
        "id": "TQhOJhneMMGF",
        "outputId": "2f61c6d2-ea6d-472f-f813-6b0cb643b285"
      },
      "source": [
        "transformer = MinMaxScaler().fit(numerical)\n",
        "numerical_normalized = transformer.transform(numerical)\n",
        "print(numerical_normalized.shape)\n",
        "numerical_normalized=pd.DataFrame(numerical_normalized, columns=numerical.columns)"
      ],
      "execution_count": 123,
      "outputs": [
        {
          "output_type": "stream",
          "text": [
            "(1308, 6)\n"
          ],
          "name": "stdout"
        }
      ]
    },
    {
      "cell_type": "code",
      "metadata": {
        "colab": {
          "base_uri": "https://localhost:8080/",
          "height": 436
        },
        "id": "LA7iLSvGMTmF",
        "outputId": "981b7550-efdf-462c-fdae-fca465d53997"
      },
      "source": [
        "numerical_normalized"
      ],
      "execution_count": 124,
      "outputs": [
        {
          "output_type": "execute_result",
          "data": {
            "text/html": [
              "<div>\n",
              "<style scoped>\n",
              "    .dataframe tbody tr th:only-of-type {\n",
              "        vertical-align: middle;\n",
              "    }\n",
              "\n",
              "    .dataframe tbody tr th {\n",
              "        vertical-align: top;\n",
              "    }\n",
              "\n",
              "    .dataframe thead th {\n",
              "        text-align: right;\n",
              "    }\n",
              "</style>\n",
              "<table border=\"1\" class=\"dataframe\">\n",
              "  <thead>\n",
              "    <tr style=\"text-align: right;\">\n",
              "      <th></th>\n",
              "      <th>Income</th>\n",
              "      <th>Monthly Premium Auto</th>\n",
              "      <th>Months Since Last Claim</th>\n",
              "      <th>Months Since Policy Inception</th>\n",
              "      <th>Number of Policies</th>\n",
              "      <th>Total Claim Amount</th>\n",
              "    </tr>\n",
              "  </thead>\n",
              "  <tbody>\n",
              "    <tr>\n",
              "      <th>0</th>\n",
              "      <td>0.629996</td>\n",
              "      <td>0.036036</td>\n",
              "      <td>0.400000</td>\n",
              "      <td>0.949495</td>\n",
              "      <td>0.125</td>\n",
              "      <td>0.112532</td>\n",
              "    </tr>\n",
              "    <tr>\n",
              "      <th>1</th>\n",
              "      <td>0.554359</td>\n",
              "      <td>0.027027</td>\n",
              "      <td>0.000000</td>\n",
              "      <td>0.131313</td>\n",
              "      <td>1.000</td>\n",
              "      <td>0.232599</td>\n",
              "    </tr>\n",
              "    <tr>\n",
              "      <th>2</th>\n",
              "      <td>0.140938</td>\n",
              "      <td>0.045045</td>\n",
              "      <td>0.371429</td>\n",
              "      <td>0.030303</td>\n",
              "      <td>0.125</td>\n",
              "      <td>0.372934</td>\n",
              "    </tr>\n",
              "    <tr>\n",
              "      <th>3</th>\n",
              "      <td>1.000000</td>\n",
              "      <td>0.220721</td>\n",
              "      <td>0.657143</td>\n",
              "      <td>0.252525</td>\n",
              "      <td>0.875</td>\n",
              "      <td>0.385369</td>\n",
              "    </tr>\n",
              "    <tr>\n",
              "      <th>4</th>\n",
              "      <td>0.140938</td>\n",
              "      <td>0.045045</td>\n",
              "      <td>0.371429</td>\n",
              "      <td>0.030303</td>\n",
              "      <td>0.125</td>\n",
              "      <td>0.372934</td>\n",
              "    </tr>\n",
              "    <tr>\n",
              "      <th>...</th>\n",
              "      <td>...</td>\n",
              "      <td>...</td>\n",
              "      <td>...</td>\n",
              "      <td>...</td>\n",
              "      <td>...</td>\n",
              "      <td>...</td>\n",
              "    </tr>\n",
              "    <tr>\n",
              "      <th>1303</th>\n",
              "      <td>0.201212</td>\n",
              "      <td>0.216216</td>\n",
              "      <td>0.285714</td>\n",
              "      <td>0.595960</td>\n",
              "      <td>0.125</td>\n",
              "      <td>0.381816</td>\n",
              "    </tr>\n",
              "    <tr>\n",
              "      <th>1304</th>\n",
              "      <td>0.560919</td>\n",
              "      <td>0.031532</td>\n",
              "      <td>0.885714</td>\n",
              "      <td>0.303030</td>\n",
              "      <td>0.250</td>\n",
              "      <td>0.236152</td>\n",
              "    </tr>\n",
              "    <tr>\n",
              "      <th>1305</th>\n",
              "      <td>0.136842</td>\n",
              "      <td>0.162162</td>\n",
              "      <td>0.028571</td>\n",
              "      <td>0.666667</td>\n",
              "      <td>0.125</td>\n",
              "      <td>0.339183</td>\n",
              "    </tr>\n",
              "    <tr>\n",
              "      <th>1306</th>\n",
              "      <td>0.000000</td>\n",
              "      <td>0.067568</td>\n",
              "      <td>0.228571</td>\n",
              "      <td>0.444444</td>\n",
              "      <td>0.250</td>\n",
              "      <td>0.264574</td>\n",
              "    </tr>\n",
              "    <tr>\n",
              "      <th>1307</th>\n",
              "      <td>0.216375</td>\n",
              "      <td>0.081081</td>\n",
              "      <td>0.400000</td>\n",
              "      <td>0.282828</td>\n",
              "      <td>0.000</td>\n",
              "      <td>0.275233</td>\n",
              "    </tr>\n",
              "  </tbody>\n",
              "</table>\n",
              "<p>1308 rows × 6 columns</p>\n",
              "</div>"
            ],
            "text/plain": [
              "        Income  Monthly Premium Auto  ...  Number of Policies  Total Claim Amount\n",
              "0     0.629996              0.036036  ...               0.125            0.112532\n",
              "1     0.554359              0.027027  ...               1.000            0.232599\n",
              "2     0.140938              0.045045  ...               0.125            0.372934\n",
              "3     1.000000              0.220721  ...               0.875            0.385369\n",
              "4     0.140938              0.045045  ...               0.125            0.372934\n",
              "...        ...                   ...  ...                 ...                 ...\n",
              "1303  0.201212              0.216216  ...               0.125            0.381816\n",
              "1304  0.560919              0.031532  ...               0.250            0.236152\n",
              "1305  0.136842              0.162162  ...               0.125            0.339183\n",
              "1306  0.000000              0.067568  ...               0.250            0.264574\n",
              "1307  0.216375              0.081081  ...               0.000            0.275233\n",
              "\n",
              "[1308 rows x 6 columns]"
            ]
          },
          "metadata": {
            "tags": []
          },
          "execution_count": 124
        }
      ]
    },
    {
      "cell_type": "code",
      "metadata": {
        "id": "wEIOtuJBMZZL"
      },
      "source": [
        "num = pd.concat([numerical_normalized,label_encoded1,label_encoded2,label_encoded3,label_encoded4,label_encoded5,label_encoded6], axis=1)\n"
      ],
      "execution_count": 125,
      "outputs": []
    },
    {
      "cell_type": "code",
      "metadata": {
        "colab": {
          "base_uri": "https://localhost:8080/",
          "height": 368
        },
        "id": "Yn8VWYw4MZKb",
        "outputId": "8488e2d9-ebcc-408a-ec7f-8fc2f82924dc"
      },
      "source": [
        "num.describe()"
      ],
      "execution_count": 144,
      "outputs": [
        {
          "output_type": "execute_result",
          "data": {
            "text/html": [
              "<div>\n",
              "<style scoped>\n",
              "    .dataframe tbody tr th:only-of-type {\n",
              "        vertical-align: middle;\n",
              "    }\n",
              "\n",
              "    .dataframe tbody tr th {\n",
              "        vertical-align: top;\n",
              "    }\n",
              "\n",
              "    .dataframe thead th {\n",
              "        text-align: right;\n",
              "    }\n",
              "</style>\n",
              "<table border=\"1\" class=\"dataframe\">\n",
              "  <thead>\n",
              "    <tr style=\"text-align: right;\">\n",
              "      <th></th>\n",
              "      <th>Income</th>\n",
              "      <th>Monthly Premium Auto</th>\n",
              "      <th>Months Since Last Claim</th>\n",
              "      <th>Months Since Policy Inception</th>\n",
              "      <th>Number of Policies</th>\n",
              "      <th>Total Claim Amount</th>\n",
              "      <th>State</th>\n",
              "      <th>Coverage</th>\n",
              "      <th>month</th>\n",
              "      <th>Policy Type</th>\n",
              "      <th>EmploymentStatus</th>\n",
              "      <th>Renew Offer Type</th>\n",
              "    </tr>\n",
              "  </thead>\n",
              "  <tbody>\n",
              "    <tr>\n",
              "      <th>count</th>\n",
              "      <td>1308.000000</td>\n",
              "      <td>1308.000000</td>\n",
              "      <td>1308.000000</td>\n",
              "      <td>1308.000000</td>\n",
              "      <td>1308.000000</td>\n",
              "      <td>1308.000000</td>\n",
              "      <td>1308.000000</td>\n",
              "      <td>1308.000000</td>\n",
              "      <td>1308.000000</td>\n",
              "      <td>1308.000000</td>\n",
              "      <td>1308.000000</td>\n",
              "      <td>1308.000000</td>\n",
              "    </tr>\n",
              "    <tr>\n",
              "      <th>mean</th>\n",
              "      <td>0.386039</td>\n",
              "      <td>0.149289</td>\n",
              "      <td>0.419659</td>\n",
              "      <td>0.487536</td>\n",
              "      <td>0.230505</td>\n",
              "      <td>0.324735</td>\n",
              "      <td>1.733945</td>\n",
              "      <td>0.481651</td>\n",
              "      <td>0.422018</td>\n",
              "      <td>0.827217</td>\n",
              "      <td>1.770642</td>\n",
              "      <td>0.568807</td>\n",
              "    </tr>\n",
              "    <tr>\n",
              "      <th>std</th>\n",
              "      <td>0.280872</td>\n",
              "      <td>0.163546</td>\n",
              "      <td>0.279210</td>\n",
              "      <td>0.273446</td>\n",
              "      <td>0.302142</td>\n",
              "      <td>0.179050</td>\n",
              "      <td>1.281799</td>\n",
              "      <td>0.658393</td>\n",
              "      <td>0.494070</td>\n",
              "      <td>0.487762</td>\n",
              "      <td>1.228080</td>\n",
              "      <td>0.539778</td>\n",
              "    </tr>\n",
              "    <tr>\n",
              "      <th>min</th>\n",
              "      <td>0.000000</td>\n",
              "      <td>0.000000</td>\n",
              "      <td>0.000000</td>\n",
              "      <td>0.000000</td>\n",
              "      <td>0.000000</td>\n",
              "      <td>0.000000</td>\n",
              "      <td>0.000000</td>\n",
              "      <td>0.000000</td>\n",
              "      <td>0.000000</td>\n",
              "      <td>0.000000</td>\n",
              "      <td>0.000000</td>\n",
              "      <td>0.000000</td>\n",
              "    </tr>\n",
              "    <tr>\n",
              "      <th>25%</th>\n",
              "      <td>0.185237</td>\n",
              "      <td>0.031532</td>\n",
              "      <td>0.171429</td>\n",
              "      <td>0.252525</td>\n",
              "      <td>0.000000</td>\n",
              "      <td>0.229046</td>\n",
              "      <td>1.000000</td>\n",
              "      <td>0.000000</td>\n",
              "      <td>0.000000</td>\n",
              "      <td>1.000000</td>\n",
              "      <td>1.000000</td>\n",
              "      <td>0.000000</td>\n",
              "    </tr>\n",
              "    <tr>\n",
              "      <th>50%</th>\n",
              "      <td>0.322840</td>\n",
              "      <td>0.110360</td>\n",
              "      <td>0.400000</td>\n",
              "      <td>0.505051</td>\n",
              "      <td>0.125000</td>\n",
              "      <td>0.298118</td>\n",
              "      <td>1.000000</td>\n",
              "      <td>0.000000</td>\n",
              "      <td>0.000000</td>\n",
              "      <td>1.000000</td>\n",
              "      <td>1.000000</td>\n",
              "      <td>1.000000</td>\n",
              "    </tr>\n",
              "    <tr>\n",
              "      <th>75%</th>\n",
              "      <td>0.609745</td>\n",
              "      <td>0.216216</td>\n",
              "      <td>0.628571</td>\n",
              "      <td>0.696970</td>\n",
              "      <td>0.250000</td>\n",
              "      <td>0.399580</td>\n",
              "      <td>3.000000</td>\n",
              "      <td>1.000000</td>\n",
              "      <td>1.000000</td>\n",
              "      <td>1.000000</td>\n",
              "      <td>3.000000</td>\n",
              "      <td>1.000000</td>\n",
              "    </tr>\n",
              "    <tr>\n",
              "      <th>max</th>\n",
              "      <td>1.000000</td>\n",
              "      <td>1.000000</td>\n",
              "      <td>1.000000</td>\n",
              "      <td>1.000000</td>\n",
              "      <td>1.000000</td>\n",
              "      <td>1.000000</td>\n",
              "      <td>4.000000</td>\n",
              "      <td>2.000000</td>\n",
              "      <td>1.000000</td>\n",
              "      <td>2.000000</td>\n",
              "      <td>4.000000</td>\n",
              "      <td>2.000000</td>\n",
              "    </tr>\n",
              "  </tbody>\n",
              "</table>\n",
              "</div>"
            ],
            "text/plain": [
              "            Income  Monthly Premium Auto  ...  EmploymentStatus  Renew Offer Type\n",
              "count  1308.000000           1308.000000  ...       1308.000000       1308.000000\n",
              "mean      0.386039              0.149289  ...          1.770642          0.568807\n",
              "std       0.280872              0.163546  ...          1.228080          0.539778\n",
              "min       0.000000              0.000000  ...          0.000000          0.000000\n",
              "25%       0.185237              0.031532  ...          1.000000          0.000000\n",
              "50%       0.322840              0.110360  ...          1.000000          1.000000\n",
              "75%       0.609745              0.216216  ...          3.000000          1.000000\n",
              "max       1.000000              1.000000  ...          4.000000          2.000000\n",
              "\n",
              "[8 rows x 12 columns]"
            ]
          },
          "metadata": {
            "tags": []
          },
          "execution_count": 144
        }
      ]
    },
    {
      "cell_type": "code",
      "metadata": {
        "colab": {
          "base_uri": "https://localhost:8080/",
          "height": 407
        },
        "id": "1QQVN4KUAB6w",
        "outputId": "76bccd14-ff12-4e01-b39d-d19ff3f97164"
      },
      "source": [
        "correllation_matrix = num.corr()\n",
        "sns.heatmap(correllation_matrix,annot=True)\n",
        "plt.show()"
      ],
      "execution_count": 127,
      "outputs": [
        {
          "output_type": "display_data",
          "data": {
            "image/png": "[encoded data removed]",
            "text/plain": [
              "<Figure size 432x288 with 2 Axes>"
            ]
          },
          "metadata": {
            "tags": [],
            "needs_background": "light"
          }
        }
      ]
    },
    {
      "cell_type": "code",
      "metadata": {
        "colab": {
          "base_uri": "https://localhost:8080/",
          "height": 560
        },
        "id": "33mviN0oBvb3",
        "outputId": "b11418e5-c907-4ee8-8e27-46680ea6f21b"
      },
      "source": [
        "correllation_matrix "
      ],
      "execution_count": 128,
      "outputs": [
        {
          "output_type": "execute_result",
          "data": {
            "text/html": [
              "<div>\n",
              "<style scoped>\n",
              "    .dataframe tbody tr th:only-of-type {\n",
              "        vertical-align: middle;\n",
              "    }\n",
              "\n",
              "    .dataframe tbody tr th {\n",
              "        vertical-align: top;\n",
              "    }\n",
              "\n",
              "    .dataframe thead th {\n",
              "        text-align: right;\n",
              "    }\n",
              "</style>\n",
              "<table border=\"1\" class=\"dataframe\">\n",
              "  <thead>\n",
              "    <tr style=\"text-align: right;\">\n",
              "      <th></th>\n",
              "      <th>Income</th>\n",
              "      <th>Monthly Premium Auto</th>\n",
              "      <th>Months Since Last Claim</th>\n",
              "      <th>Months Since Policy Inception</th>\n",
              "      <th>Number of Policies</th>\n",
              "      <th>Total Claim Amount</th>\n",
              "      <th>State</th>\n",
              "      <th>Coverage</th>\n",
              "      <th>month</th>\n",
              "      <th>Policy Type</th>\n",
              "      <th>EmploymentStatus</th>\n",
              "      <th>Renew Offer Type</th>\n",
              "    </tr>\n",
              "  </thead>\n",
              "  <tbody>\n",
              "    <tr>\n",
              "      <th>Income</th>\n",
              "      <td>1.000000</td>\n",
              "      <td>-0.018676</td>\n",
              "      <td>-0.037536</td>\n",
              "      <td>0.079148</td>\n",
              "      <td>-0.001533</td>\n",
              "      <td>-0.272403</td>\n",
              "      <td>-0.004651</td>\n",
              "      <td>0.040701</td>\n",
              "      <td>0.002186</td>\n",
              "      <td>0.002815</td>\n",
              "      <td>-0.671468</td>\n",
              "      <td>0.362512</td>\n",
              "    </tr>\n",
              "    <tr>\n",
              "      <th>Monthly Premium Auto</th>\n",
              "      <td>-0.018676</td>\n",
              "      <td>1.000000</td>\n",
              "      <td>0.082945</td>\n",
              "      <td>0.045262</td>\n",
              "      <td>-0.071307</td>\n",
              "      <td>0.730515</td>\n",
              "      <td>0.040270</td>\n",
              "      <td>0.532740</td>\n",
              "      <td>0.084175</td>\n",
              "      <td>0.005709</td>\n",
              "      <td>-0.025831</td>\n",
              "      <td>-0.118676</td>\n",
              "    </tr>\n",
              "    <tr>\n",
              "      <th>Months Since Last Claim</th>\n",
              "      <td>-0.037536</td>\n",
              "      <td>0.082945</td>\n",
              "      <td>1.000000</td>\n",
              "      <td>-0.032761</td>\n",
              "      <td>0.145448</td>\n",
              "      <td>0.018464</td>\n",
              "      <td>-0.028314</td>\n",
              "      <td>0.109702</td>\n",
              "      <td>-0.002189</td>\n",
              "      <td>-0.022712</td>\n",
              "      <td>0.038024</td>\n",
              "      <td>-0.012463</td>\n",
              "    </tr>\n",
              "    <tr>\n",
              "      <th>Months Since Policy Inception</th>\n",
              "      <td>0.079148</td>\n",
              "      <td>0.045262</td>\n",
              "      <td>-0.032761</td>\n",
              "      <td>1.000000</td>\n",
              "      <td>-0.062226</td>\n",
              "      <td>0.004085</td>\n",
              "      <td>-0.032047</td>\n",
              "      <td>0.044575</td>\n",
              "      <td>0.038964</td>\n",
              "      <td>-0.026589</td>\n",
              "      <td>-0.054363</td>\n",
              "      <td>-0.130689</td>\n",
              "    </tr>\n",
              "    <tr>\n",
              "      <th>Number of Policies</th>\n",
              "      <td>-0.001533</td>\n",
              "      <td>-0.071307</td>\n",
              "      <td>0.145448</td>\n",
              "      <td>-0.062226</td>\n",
              "      <td>1.000000</td>\n",
              "      <td>-0.035622</td>\n",
              "      <td>-0.012168</td>\n",
              "      <td>-0.085454</td>\n",
              "      <td>0.024404</td>\n",
              "      <td>-0.044290</td>\n",
              "      <td>-0.002781</td>\n",
              "      <td>-0.079732</td>\n",
              "    </tr>\n",
              "    <tr>\n",
              "      <th>Total Claim Amount</th>\n",
              "      <td>-0.272403</td>\n",
              "      <td>0.730515</td>\n",
              "      <td>0.018464</td>\n",
              "      <td>0.004085</td>\n",
              "      <td>-0.035622</td>\n",
              "      <td>1.000000</td>\n",
              "      <td>0.056925</td>\n",
              "      <td>0.371484</td>\n",
              "      <td>0.058935</td>\n",
              "      <td>0.040043</td>\n",
              "      <td>0.160091</td>\n",
              "      <td>-0.126170</td>\n",
              "    </tr>\n",
              "    <tr>\n",
              "      <th>State</th>\n",
              "      <td>-0.004651</td>\n",
              "      <td>0.040270</td>\n",
              "      <td>-0.028314</td>\n",
              "      <td>-0.032047</td>\n",
              "      <td>-0.012168</td>\n",
              "      <td>0.056925</td>\n",
              "      <td>1.000000</td>\n",
              "      <td>-0.012135</td>\n",
              "      <td>0.009499</td>\n",
              "      <td>0.009633</td>\n",
              "      <td>0.004950</td>\n",
              "      <td>-0.002273</td>\n",
              "    </tr>\n",
              "    <tr>\n",
              "      <th>Coverage</th>\n",
              "      <td>0.040701</td>\n",
              "      <td>0.532740</td>\n",
              "      <td>0.109702</td>\n",
              "      <td>0.044575</td>\n",
              "      <td>-0.085454</td>\n",
              "      <td>0.371484</td>\n",
              "      <td>-0.012135</td>\n",
              "      <td>1.000000</td>\n",
              "      <td>0.080273</td>\n",
              "      <td>0.021093</td>\n",
              "      <td>-0.044952</td>\n",
              "      <td>-0.035197</td>\n",
              "    </tr>\n",
              "    <tr>\n",
              "      <th>month</th>\n",
              "      <td>0.002186</td>\n",
              "      <td>0.084175</td>\n",
              "      <td>-0.002189</td>\n",
              "      <td>0.038964</td>\n",
              "      <td>0.024404</td>\n",
              "      <td>0.058935</td>\n",
              "      <td>0.009499</td>\n",
              "      <td>0.080273</td>\n",
              "      <td>1.000000</td>\n",
              "      <td>0.001194</td>\n",
              "      <td>-0.037066</td>\n",
              "      <td>-0.177821</td>\n",
              "    </tr>\n",
              "    <tr>\n",
              "      <th>Policy Type</th>\n",
              "      <td>0.002815</td>\n",
              "      <td>0.005709</td>\n",
              "      <td>-0.022712</td>\n",
              "      <td>-0.026589</td>\n",
              "      <td>-0.044290</td>\n",
              "      <td>0.040043</td>\n",
              "      <td>0.009633</td>\n",
              "      <td>0.021093</td>\n",
              "      <td>0.001194</td>\n",
              "      <td>1.000000</td>\n",
              "      <td>-0.031721</td>\n",
              "      <td>0.007412</td>\n",
              "    </tr>\n",
              "    <tr>\n",
              "      <th>EmploymentStatus</th>\n",
              "      <td>-0.671468</td>\n",
              "      <td>-0.025831</td>\n",
              "      <td>0.038024</td>\n",
              "      <td>-0.054363</td>\n",
              "      <td>-0.002781</td>\n",
              "      <td>0.160091</td>\n",
              "      <td>0.004950</td>\n",
              "      <td>-0.044952</td>\n",
              "      <td>-0.037066</td>\n",
              "      <td>-0.031721</td>\n",
              "      <td>1.000000</td>\n",
              "      <td>-0.246259</td>\n",
              "    </tr>\n",
              "    <tr>\n",
              "      <th>Renew Offer Type</th>\n",
              "      <td>0.362512</td>\n",
              "      <td>-0.118676</td>\n",
              "      <td>-0.012463</td>\n",
              "      <td>-0.130689</td>\n",
              "      <td>-0.079732</td>\n",
              "      <td>-0.126170</td>\n",
              "      <td>-0.002273</td>\n",
              "      <td>-0.035197</td>\n",
              "      <td>-0.177821</td>\n",
              "      <td>0.007412</td>\n",
              "      <td>-0.246259</td>\n",
              "      <td>1.000000</td>\n",
              "    </tr>\n",
              "  </tbody>\n",
              "</table>\n",
              "</div>"
            ],
            "text/plain": [
              "                                 Income  ...  Renew Offer Type\n",
              "Income                         1.000000  ...          0.362512\n",
              "Monthly Premium Auto          -0.018676  ...         -0.118676\n",
              "Months Since Last Claim       -0.037536  ...         -0.012463\n",
              "Months Since Policy Inception  0.079148  ...         -0.130689\n",
              "Number of Policies            -0.001533  ...         -0.079732\n",
              "Total Claim Amount            -0.272403  ...         -0.126170\n",
              "State                         -0.004651  ...         -0.002273\n",
              "Coverage                       0.040701  ...         -0.035197\n",
              "month                          0.002186  ...         -0.177821\n",
              "Policy Type                    0.002815  ...          0.007412\n",
              "EmploymentStatus              -0.671468  ...         -0.246259\n",
              "Renew Offer Type               0.362512  ...          1.000000\n",
              "\n",
              "[12 rows x 12 columns]"
            ]
          },
          "metadata": {
            "tags": []
          },
          "execution_count": 128
        }
      ]
    },
    {
      "cell_type": "code",
      "metadata": {
        "id": "IQ-97_oX3bWV"
      },
      "source": [
        "y = num['Total Claim Amount']\n",
        "X = num.drop(['Total Claim Amount'], axis=1)\n"
      ],
      "execution_count": 129,
      "outputs": []
    },
    {
      "cell_type": "code",
      "metadata": {
        "id": "L9W0kQdsSF3u"
      },
      "source": [
        ""
      ],
      "execution_count": 129,
      "outputs": []
    },
    {
      "cell_type": "code",
      "metadata": {
        "id": "P4WhfXGQMiqG"
      },
      "source": [
        "from sklearn.model_selection import train_test_split\n",
        "X_train, X_test, y_train, y_test = train_test_split(X, y, test_size=0.2, random_state=100)"
      ],
      "execution_count": 130,
      "outputs": []
    },
    {
      "cell_type": "code",
      "metadata": {
        "colab": {
          "base_uri": "https://localhost:8080/"
        },
        "id": "af1VLEACQTVG",
        "outputId": "78397bef-9217-4751-c430-00e2a26d6e9b"
      },
      "source": [
        "print(X_train.shape)\n",
        "print(X_test.shape)\n",
        "print(y_train.shape)\n",
        "print(y_test.shape)"
      ],
      "execution_count": 131,
      "outputs": [
        {
          "output_type": "stream",
          "text": [
            "(1046, 11)\n",
            "(262, 11)\n",
            "(1046,)\n",
            "(262,)\n"
          ],
          "name": "stdout"
        }
      ]
    },
    {
      "cell_type": "code",
      "metadata": {
        "colab": {
          "base_uri": "https://localhost:8080/",
          "height": 238
        },
        "id": "S6zn1mHKQhJX",
        "outputId": "ea9ef160-22b8-41c5-f40b-869e3cbdad7d"
      },
      "source": [
        "X_train.head()"
      ],
      "execution_count": 132,
      "outputs": [
        {
          "output_type": "execute_result",
          "data": {
            "text/html": [
              "<div>\n",
              "<style scoped>\n",
              "    .dataframe tbody tr th:only-of-type {\n",
              "        vertical-align: middle;\n",
              "    }\n",
              "\n",
              "    .dataframe tbody tr th {\n",
              "        vertical-align: top;\n",
              "    }\n",
              "\n",
              "    .dataframe thead th {\n",
              "        text-align: right;\n",
              "    }\n",
              "</style>\n",
              "<table border=\"1\" class=\"dataframe\">\n",
              "  <thead>\n",
              "    <tr style=\"text-align: right;\">\n",
              "      <th></th>\n",
              "      <th>Income</th>\n",
              "      <th>Monthly Premium Auto</th>\n",
              "      <th>Months Since Last Claim</th>\n",
              "      <th>Months Since Policy Inception</th>\n",
              "      <th>Number of Policies</th>\n",
              "      <th>State</th>\n",
              "      <th>Coverage</th>\n",
              "      <th>month</th>\n",
              "      <th>Policy Type</th>\n",
              "      <th>EmploymentStatus</th>\n",
              "      <th>Renew Offer Type</th>\n",
              "    </tr>\n",
              "  </thead>\n",
              "  <tbody>\n",
              "    <tr>\n",
              "      <th>16</th>\n",
              "      <td>0.000000</td>\n",
              "      <td>0.040541</td>\n",
              "      <td>0.685714</td>\n",
              "      <td>0.101010</td>\n",
              "      <td>0.000</td>\n",
              "      <td>1</td>\n",
              "      <td>0</td>\n",
              "      <td>0</td>\n",
              "      <td>1</td>\n",
              "      <td>4</td>\n",
              "      <td>0</td>\n",
              "    </tr>\n",
              "    <tr>\n",
              "      <th>538</th>\n",
              "      <td>0.251730</td>\n",
              "      <td>0.027027</td>\n",
              "      <td>0.085714</td>\n",
              "      <td>0.000000</td>\n",
              "      <td>0.625</td>\n",
              "      <td>1</td>\n",
              "      <td>0</td>\n",
              "      <td>0</td>\n",
              "      <td>1</td>\n",
              "      <td>1</td>\n",
              "      <td>1</td>\n",
              "    </tr>\n",
              "    <tr>\n",
              "      <th>532</th>\n",
              "      <td>0.768501</td>\n",
              "      <td>0.013514</td>\n",
              "      <td>0.057143</td>\n",
              "      <td>0.686869</td>\n",
              "      <td>0.000</td>\n",
              "      <td>1</td>\n",
              "      <td>0</td>\n",
              "      <td>1</td>\n",
              "      <td>1</td>\n",
              "      <td>1</td>\n",
              "      <td>1</td>\n",
              "    </tr>\n",
              "    <tr>\n",
              "      <th>285</th>\n",
              "      <td>0.374420</td>\n",
              "      <td>0.171171</td>\n",
              "      <td>0.257143</td>\n",
              "      <td>0.171717</td>\n",
              "      <td>0.000</td>\n",
              "      <td>0</td>\n",
              "      <td>1</td>\n",
              "      <td>0</td>\n",
              "      <td>1</td>\n",
              "      <td>1</td>\n",
              "      <td>1</td>\n",
              "    </tr>\n",
              "    <tr>\n",
              "      <th>365</th>\n",
              "      <td>0.130572</td>\n",
              "      <td>0.283784</td>\n",
              "      <td>0.800000</td>\n",
              "      <td>0.494949</td>\n",
              "      <td>0.000</td>\n",
              "      <td>3</td>\n",
              "      <td>1</td>\n",
              "      <td>0</td>\n",
              "      <td>1</td>\n",
              "      <td>2</td>\n",
              "      <td>1</td>\n",
              "    </tr>\n",
              "  </tbody>\n",
              "</table>\n",
              "</div>"
            ],
            "text/plain": [
              "       Income  Monthly Premium Auto  ...  EmploymentStatus  Renew Offer Type\n",
              "16   0.000000              0.040541  ...                 4                 0\n",
              "538  0.251730              0.027027  ...                 1                 1\n",
              "532  0.768501              0.013514  ...                 1                 1\n",
              "285  0.374420              0.171171  ...                 1                 1\n",
              "365  0.130572              0.283784  ...                 2                 1\n",
              "\n",
              "[5 rows x 11 columns]"
            ]
          },
          "metadata": {
            "tags": []
          },
          "execution_count": 132
        }
      ]
    },
    {
      "cell_type": "code",
      "metadata": {
        "colab": {
          "base_uri": "https://localhost:8080/",
          "height": 238
        },
        "id": "p5A2WPzoQm19",
        "outputId": "305d3365-0eb3-4990-fb70-bf1b2fecb505"
      },
      "source": [
        "\n",
        "X_test.head()"
      ],
      "execution_count": 133,
      "outputs": [
        {
          "output_type": "execute_result",
          "data": {
            "text/html": [
              "<div>\n",
              "<style scoped>\n",
              "    .dataframe tbody tr th:only-of-type {\n",
              "        vertical-align: middle;\n",
              "    }\n",
              "\n",
              "    .dataframe tbody tr th {\n",
              "        vertical-align: top;\n",
              "    }\n",
              "\n",
              "    .dataframe thead th {\n",
              "        text-align: right;\n",
              "    }\n",
              "</style>\n",
              "<table border=\"1\" class=\"dataframe\">\n",
              "  <thead>\n",
              "    <tr style=\"text-align: right;\">\n",
              "      <th></th>\n",
              "      <th>Income</th>\n",
              "      <th>Monthly Premium Auto</th>\n",
              "      <th>Months Since Last Claim</th>\n",
              "      <th>Months Since Policy Inception</th>\n",
              "      <th>Number of Policies</th>\n",
              "      <th>State</th>\n",
              "      <th>Coverage</th>\n",
              "      <th>month</th>\n",
              "      <th>Policy Type</th>\n",
              "      <th>EmploymentStatus</th>\n",
              "      <th>Renew Offer Type</th>\n",
              "    </tr>\n",
              "  </thead>\n",
              "  <tbody>\n",
              "    <tr>\n",
              "      <th>173</th>\n",
              "      <td>0.351495</td>\n",
              "      <td>0.054054</td>\n",
              "      <td>0.714286</td>\n",
              "      <td>0.565657</td>\n",
              "      <td>0.125</td>\n",
              "      <td>3</td>\n",
              "      <td>0</td>\n",
              "      <td>0</td>\n",
              "      <td>1</td>\n",
              "      <td>1</td>\n",
              "      <td>1</td>\n",
              "    </tr>\n",
              "    <tr>\n",
              "      <th>843</th>\n",
              "      <td>0.313266</td>\n",
              "      <td>0.139640</td>\n",
              "      <td>0.685714</td>\n",
              "      <td>0.959596</td>\n",
              "      <td>0.000</td>\n",
              "      <td>3</td>\n",
              "      <td>1</td>\n",
              "      <td>1</td>\n",
              "      <td>1</td>\n",
              "      <td>1</td>\n",
              "      <td>0</td>\n",
              "    </tr>\n",
              "    <tr>\n",
              "      <th>996</th>\n",
              "      <td>0.605689</td>\n",
              "      <td>0.207207</td>\n",
              "      <td>0.257143</td>\n",
              "      <td>0.181818</td>\n",
              "      <td>0.000</td>\n",
              "      <td>3</td>\n",
              "      <td>2</td>\n",
              "      <td>1</td>\n",
              "      <td>1</td>\n",
              "      <td>1</td>\n",
              "      <td>1</td>\n",
              "    </tr>\n",
              "    <tr>\n",
              "      <th>992</th>\n",
              "      <td>0.000000</td>\n",
              "      <td>0.256757</td>\n",
              "      <td>0.400000</td>\n",
              "      <td>0.646465</td>\n",
              "      <td>0.375</td>\n",
              "      <td>0</td>\n",
              "      <td>0</td>\n",
              "      <td>1</td>\n",
              "      <td>1</td>\n",
              "      <td>4</td>\n",
              "      <td>0</td>\n",
              "    </tr>\n",
              "    <tr>\n",
              "      <th>12</th>\n",
              "      <td>0.231268</td>\n",
              "      <td>0.157658</td>\n",
              "      <td>0.800000</td>\n",
              "      <td>0.909091</td>\n",
              "      <td>0.500</td>\n",
              "      <td>1</td>\n",
              "      <td>1</td>\n",
              "      <td>0</td>\n",
              "      <td>1</td>\n",
              "      <td>3</td>\n",
              "      <td>0</td>\n",
              "    </tr>\n",
              "  </tbody>\n",
              "</table>\n",
              "</div>"
            ],
            "text/plain": [
              "       Income  Monthly Premium Auto  ...  EmploymentStatus  Renew Offer Type\n",
              "173  0.351495              0.054054  ...                 1                 1\n",
              "843  0.313266              0.139640  ...                 1                 0\n",
              "996  0.605689              0.207207  ...                 1                 1\n",
              "992  0.000000              0.256757  ...                 4                 0\n",
              "12   0.231268              0.157658  ...                 3                 0\n",
              "\n",
              "[5 rows x 11 columns]"
            ]
          },
          "metadata": {
            "tags": []
          },
          "execution_count": 133
        }
      ]
    },
    {
      "cell_type": "code",
      "metadata": {
        "colab": {
          "base_uri": "https://localhost:8080/"
        },
        "id": "j6LoX_JvQtJm",
        "outputId": "084cfc08-f4dc-4d36-babc-8a01a573ec9b"
      },
      "source": [
        "lm = linear_model.LinearRegression()\n",
        "model = lm.fit(X_train,y_train)\n",
        "model"
      ],
      "execution_count": 134,
      "outputs": [
        {
          "output_type": "execute_result",
          "data": {
            "text/plain": [
              "LinearRegression(copy_X=True, fit_intercept=True, n_jobs=None, normalize=False)"
            ]
          },
          "metadata": {
            "tags": []
          },
          "execution_count": 134
        }
      ]
    },
    {
      "cell_type": "code",
      "metadata": {
        "id": "voE3G9m8Rm2Y"
      },
      "source": [
        ""
      ],
      "execution_count": 332,
      "outputs": []
    },
    {
      "cell_type": "code",
      "metadata": {
        "colab": {
          "base_uri": "https://localhost:8080/"
        },
        "id": "edJFL9zzQ3H3",
        "outputId": "a2aa9806-8fa9-40a3-f31f-0cf95cb6191d"
      },
      "source": [
        "from sklearn.metrics import r2_score\n",
        "\n",
        "predictions = lm.predict(X_test)\n",
        "r2_score(y_test, predictions)"
      ],
      "execution_count": 135,
      "outputs": [
        {
          "output_type": "execute_result",
          "data": {
            "text/plain": [
              "0.591885121072403"
            ]
          },
          "metadata": {
            "tags": []
          },
          "execution_count": 135
        }
      ]
    },
    {
      "cell_type": "code",
      "metadata": {
        "id": "SCOjuS2QQ84Z"
      },
      "source": [
        "from sklearn.metrics import mean_squared_error, r2_score"
      ],
      "execution_count": 136,
      "outputs": []
    },
    {
      "cell_type": "code",
      "metadata": {
        "colab": {
          "base_uri": "https://localhost:8080/"
        },
        "id": "SrwTTJvGQ_Sl",
        "outputId": "e7d8a15a-74b4-4b09-c434-530e6c98261c"
      },
      "source": [
        "mse = mean_squared_error(y_test, predictions)\n",
        "print(mse)"
      ],
      "execution_count": 137,
      "outputs": [
        {
          "output_type": "stream",
          "text": [
            "0.012276516540351707\n"
          ],
          "name": "stdout"
        }
      ]
    },
    {
      "cell_type": "code",
      "metadata": {
        "id": "WZ_BSgMlRBvP"
      },
      "source": [
        "import math"
      ],
      "execution_count": 138,
      "outputs": []
    },
    {
      "cell_type": "code",
      "metadata": {
        "colab": {
          "base_uri": "https://localhost:8080/"
        },
        "id": "_xOo-esWREB6",
        "outputId": "dea0aadd-1751-4e62-e5ee-55994ebc4fc8"
      },
      "source": [
        "rmse = math.sqrt(mse)\n",
        "print(rmse)"
      ],
      "execution_count": 139,
      "outputs": [
        {
          "output_type": "stream",
          "text": [
            "0.11079944287022253\n"
          ],
          "name": "stdout"
        }
      ]
    },
    {
      "cell_type": "code",
      "metadata": {
        "colab": {
          "base_uri": "https://localhost:8080/"
        },
        "id": "B-bfWgJORHG9",
        "outputId": "ddb9ea29-59b5-40c7-a86f-2635ec5a2091"
      },
      "source": [
        "r2 = r2_score(y_test, predictions)\n",
        "r2"
      ],
      "execution_count": 140,
      "outputs": [
        {
          "output_type": "execute_result",
          "data": {
            "text/plain": [
              "0.591885121072403"
            ]
          },
          "metadata": {
            "tags": []
          },
          "execution_count": 140
        }
      ]
    },
    {
      "cell_type": "code",
      "metadata": {
        "id": "pCRYw3C_RJ--"
      },
      "source": [
        "from sklearn.metrics import mean_absolute_error"
      ],
      "execution_count": 141,
      "outputs": []
    },
    {
      "cell_type": "code",
      "metadata": {
        "colab": {
          "base_uri": "https://localhost:8080/"
        },
        "id": "jxfUkDDLRMk0",
        "outputId": "e6cc8c86-5823-4a28-9e74-9362ab3e4c87"
      },
      "source": [
        "mae = mean_absolute_error(y_test, predictions)\n",
        "mae"
      ],
      "execution_count": 142,
      "outputs": [
        {
          "output_type": "execute_result",
          "data": {
            "text/plain": [
              "0.07471204828986425"
            ]
          },
          "metadata": {
            "tags": []
          },
          "execution_count": 142
        }
      ]
    },
    {
      "cell_type": "markdown",
      "metadata": {
        "id": "cjrEbA4pM2QB"
      },
      "source": [
        "You can see that the value of root mean squared error is 0.1107, which is slightly less than 25% of the our numerical data. This means that our algorithm was  very accurate but can still make reasonably good predictions."
      ]
    }
  ]
}